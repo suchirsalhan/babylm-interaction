{
 "cells": [
  {
   "cell_type": "code",
   "execution_count": 1,
   "metadata": {},
   "outputs": [
    {
     "name": "stderr",
     "output_type": "stream",
     "text": [
      "/home/administrator/anaconda3/envs/babylm_old_trl/lib/python3.11/site-packages/tqdm/auto.py:21: TqdmWarning: IProgress not found. Please update jupyter and ipywidgets. See https://ipywidgets.readthedocs.io/en/stable/user_install.html\n",
      "  from .autonotebook import tqdm as notebook_tqdm\n"
     ]
    }
   ],
   "source": [
    "import sys\n",
    "sys.path.append(\"../..\")\n",
    "\n",
    "from transformers import AutoTokenizer, AutoModelForCausalLM\n",
    "from trl import AutoModelForCausalLMWithValueHead\n",
    "import torch\n",
    "\n",
    "from core.custom_components.custom_interaction.exp1_dialogue_interaction_model import DialogueInteractionModel"
   ]
  },
  {
   "cell_type": "code",
   "execution_count": 2,
   "metadata": {},
   "outputs": [
    {
     "name": "stderr",
     "output_type": "stream",
     "text": [
      "WARNING:root:A <class 'transformers.models.opt.modeling_opt.OPTForCausalLM'> model is loaded from 'Talking-Babies/opt-Talking-Babies-train_100M_2048_preprocess', and no v_head weight is found. This IS expected if you are not resuming PPO training.\n",
      "/home/administrator/anaconda3/envs/babylm_old_trl/lib/python3.11/site-packages/torch/cuda/__init__.py:789: UserWarning: Can't initialize NVML\n",
      "  warnings.warn(\"Can't initialize NVML\")\n"
     ]
    }
   ],
   "source": [
    "# child model load\n",
    "# Load tokenizer and model from separate repos\n",
    "child_tokenizer = AutoTokenizer.from_pretrained(\"Talking-Babies/opt-tokenizer\")\n",
    "child_model = AutoModelForCausalLMWithValueHead.from_pretrained(\"Talking-Babies/opt-Talking-Babies-train_100M_2048_preprocess\")\n",
    "\n",
    "# Move model to GPU if available\n",
    "device = torch.device(\"cuda\" if torch.cuda.is_available() else \"cpu\")\n",
    "child_model.to(device)\n",
    "\n",
    "child_generation_args = {\n",
    "    \"max_new_tokens\": 100,\n",
    "    \"do_sample\": True,\n",
    "    \"top_k\": 50,\n",
    "    \"top_p\": 0.95,\n",
    "    \"temperature\": 0.8,\n",
    "    \"num_return_sequences\": 1,\n",
    "}\n",
    "\n",
    "\n"
   ]
  },
  {
   "cell_type": "code",
   "execution_count": 3,
   "metadata": {},
   "outputs": [
    {
     "name": "stderr",
     "output_type": "stream",
     "text": [
      "WARNING:root:A <class 'transformers.models.llama.modeling_llama.LlamaForCausalLM'> model is loaded from 'meta-llama/Llama-3.2-1B-Instruct', and no v_head weight is found. This IS expected if you are not resuming PPO training.\n"
     ]
    }
   ],
   "source": [
    "# teacher model load\n",
    "teacher_model = AutoModelForCausalLMWithValueHead.from_pretrained(\"meta-llama/Llama-3.2-1B-Instruct\")\n",
    "teacher_tokenizer = AutoTokenizer.from_pretrained(\"meta-llama/Llama-3.2-1B-Instruct\")\n",
    "\n",
    "# Move model to GPU if available\n",
    "device = torch.device(\"cuda\" if torch.cuda.is_available() else \"cpu\")\n",
    "teacher_model.to(device)\n",
    "\n",
    "teacher_generation_args = {\n",
    "    \"max_new_tokens\": 100,\n",
    "    \"do_sample\": True,\n",
    "    \"top_k\": 50,\n",
    "    \"top_p\": 0.95,\n",
    "    \"temperature\": 0.5,\n",
    "}"
   ]
  },
  {
   "cell_type": "markdown",
   "metadata": {},
   "source": [
    "### load to interaction model"
   ]
  },
  {
   "cell_type": "code",
   "execution_count": 4,
   "metadata": {},
   "outputs": [],
   "source": [
    "test_interaction_model = DialogueInteractionModel(\n",
    "    child_model=child_model,\n",
    "    teacher_model=teacher_model,\n",
    "    child_tokenizer=child_tokenizer,\n",
    "    teacher_tokenizer=teacher_tokenizer,\n",
    "    student_generation_args=child_generation_args,\n",
    "    teacher_generation_args=teacher_generation_args,\n",
    ")"
   ]
  },
  {
   "cell_type": "code",
   "execution_count": 5,
   "metadata": {},
   "outputs": [],
   "source": [
    "test_text = \"B:: And nothing is being done about it. Uh, the laws exist and are frequently upheld in, in, uh, in Appeals Court just because of technicalities and because of maybe small little holes that their defending attorney can find. And it's, it's really getting out of hand in many states.\\nA:: Well, the term technicality . The law enforcement community, uh, uh, you know, has to, has to separate the difference between somebody who is being set up in which, uh, grievous acts are done to, uh, to, you know, to get somebody into a, a situation where they're going to be guilty of, of a crime. Or whether, uh, and whether the rights of that individual are been, have been, you know, impuned. Uh, but or whether there's just, you know, a policeman has just made a, uh, a, you know, a non, a noncritical error, though be it not the right way to do it but, but, you know, the, the merits of the case in terms of, you know, the guy was a law breaker, as being supportive. Now, I, I'm, at this juncture I, you know, I'm, I'm not sure, you know, what constitutes a, a technicality. You know, that, that's what all these, these hearings are about and that's what all these, you know, court cases are about. I mean our, uh, our, our glorious, uh, you know, mayor here in Washington is six days away from getting out of, out of the can and, uh, you know, he, he tried to appeal his conviction. Uh, and, you know, it didn't work. But be that as it may, everybody who got enough money will pump the appeal process dry. Uh, in, in the old days, you know, and say round about times of battle of Hastings, you know, and the villages if you were a transgressor, they, they either, you know, drove you out in the woods or you became a ward of somebody and he, you were his slave. And if he didn't like what you did, he killed you. And that has, that's pretty effective. Uh, you know, it's not good for civil rights, I guess, but it's pretty effective in that, you know, you've got to get along in the community and if you don't you'll perish. Either by the hand of your, your, your master or by being pushed out in the woods. So, I, I, I mean as, as man has gotten more complicated so all of the, uh, imaginations to, uh, you know, protect him from, from being, uh, dumped on by, uh, civilian authority in, in in criminal actions, especially, you know, murder cases and that sort of thing.\\nB:: Well, it seems like well it, it seems as if in the past typically there have been a lot of cases of people being wrongly tried or wrongly punished, and the whole idea behind the current criminal process system is to protect those who actually didn't the crimes, albeit it seems that we are failing in that, in that ultimate goal because there are times when people who are guilty are getting off. Um, for instance, um there's a case a few years back where, uh, someone, uh, someone who's being convicted for, was under a was going to trial for murder, was let off because of a technicality in that. The the arresting officer, uh, did not read the defendant their rights.\\nA:: Uh-huh.\\nB:: And where his, old evidence was there, the witnesses were there, the, everything was conclusively pointing to this individual yet\"\n",
    "test_prompt = test_interaction_model._format_teacher_prompt(partial_dialogue=test_text, child_continuation=\"I dont know\")"
   ]
  },
  {
   "cell_type": "code",
   "execution_count": 6,
   "metadata": {},
   "outputs": [
    {
     "name": "stderr",
     "output_type": "stream",
     "text": [
      "The attention mask and the pad token id were not set. As a consequence, you may observe unexpected behavior. Please pass your input's `attention_mask` to obtain reliable results.\n",
      "Setting `pad_token_id` to `eos_token_id`:128001 for open-end generation.\n",
      "The attention mask is not set and cannot be inferred from input because pad token is same as eos token. As a consequence, you may observe unexpected behavior. Please pass your input's `attention_mask` to obtain reliable results.\n"
     ]
    }
   ],
   "source": [
    "teacher_prompt = test_prompt\n",
    "teacher_inputs = test_interaction_model.encode_text(teacher_prompt, is_child=False)\n",
    "teacher_outputs = test_interaction_model.teacher_model.generate(\n",
    "    teacher_inputs.unsqueeze(0),\n",
    "    generation_config=test_interaction_model.teacher_generation_config\n",
    ")\n",
    "teacher_response = teacher_outputs[0]\n",
    "\n",
    "# Decode teacher response and extract completion\n",
    "full_teacher_response = test_interaction_model.decode_tokens(teacher_response, is_child=False)\n",
    "teacher_completion = test_interaction_model._extract_response_content(full_teacher_response, teacher_prompt)"
   ]
  },
  {
   "cell_type": "code",
   "execution_count": 7,
   "metadata": {},
   "outputs": [
    {
     "data": {
      "text/plain": [
       "True"
      ]
     },
     "execution_count": 7,
     "metadata": {},
     "output_type": "execute_result"
    }
   ],
   "source": [
    "full_teacher_response == teacher_completion"
   ]
  },
  {
   "cell_type": "code",
   "execution_count": 8,
   "metadata": {},
   "outputs": [
    {
     "data": {
      "text/plain": [
       "\"system\\nYou are an expert dialogue completion assistant. \\n        You will be given a partial dialogue and a child model's continuation attempt. \\n        Your task is to generate a high-quality completion of the partial dialogue.\\n        Take reference from the child continuation, make a continuation that is of similar length and topic but more coherent, fluent, grammatically correct and more contextually appropriate.\\n        If the child's continuation is gibberish, you should generate a completion that is coherent and contextually appropriate.\\n        Your completion should be one round conversation as A or B in the dialogue, dont generate multiple rounds of conversation.\\n        You should only provide your own completion without any added commentary or feedback.\\n        user\\nOriginal partial dialogue:\\nB:: And nothing is being done about it. Uh, the laws exist and are frequently upheld in, in, uh, in Appeals Court just because of technicalities and because of maybe small little holes that their defending attorney can find. And it's, it's really getting out of hand in many states.\\nA:: Well, the term technicality. The law enforcement community, uh, uh, you know, has to, has to separate the difference between somebody who is being set up in which, uh, grievous acts are done to, uh, to, you know, to get somebody into a, a situation where they're going to be guilty of, of a crime. Or whether, uh, and whether the rights of that individual are been, have been, you know, impuned. Uh, but or whether there's just, you know, a policeman has just made a, uh, a, you know, a non, a noncritical error, though be it not the right way to do it but, but, you know, the, the merits of the case in terms of, you know, the guy was a law breaker, as being supportive. Now, I, I'm, at this juncture I, you know, I'm, I'm not sure, you know, what constitutes a, a technicality. You know, that, that's what all these, these hearings are about and that's what all these, you know, court cases are about. I mean our, uh, our, our glorious, uh, you know, mayor here in Washington is six days away from getting out of, out of the can and, uh, you know, he, he tried to appeal his conviction. Uh, and, you know, it didn't work. But be that as it may, everybody who got enough money will pump the appeal process dry. Uh, in, in the old days, you know, and say round about times of battle of Hastings, you know, and the villages if you were a transgressor, they, they either, you know, drove you out in the woods or you became a ward of somebody and he, you were his slave. And if he didn't like what you did, he killed you. And that has, that's pretty effective. Uh, you know, it's not good for civil rights, I guess, but it's pretty effective in that, you know, you've got to get along in the community and if you don't you'll perish. Either by the hand of your, your, your master or by being pushed out in the woods. So, I, I, I mean as, as man has gotten more complicated so all of the, uh, imaginations to, uh, you know, protect him from, from being, uh, dumped on by, uh, civilian authority in, in in criminal actions, especially, you know, murder cases and that sort of thing.\\nB:: Well, it seems like well it, it seems as if in the past typically there have been a lot of cases of people being wrongly tried or wrongly punished, and the whole idea behind the current criminal process system is to protect those who actually didn't the crimes, albeit it seems that we are failing in that, in that ultimate goal because there are times when people who are guilty are getting off. Um, for instance, um there's a case a few years back where, uh, someone, uh, someone who's being convicted for, was under a was going to trial for murder, was let off because of a technicality in that. The the arresting officer, uh, did not read the defendant their rights.\\nA:: Uh-huh.\\nB:: And where his, old evidence was there, the witnesses were there, the, everything was conclusively pointing to this individual yet\\n\\nChild model's continuation:\\nI dont know\\n\\nPlease generate a high-quality completion of the dialogue, taking into account the child's attempt but improving:assistant\\nA:: Well, the case of the, uh, the case of the, uh, the case of the, uh, the defendant who was let off due to a, a technicality in the, in the, uh, the evidence presented in the trial. It was a, a, a, a, a, a case where the, the, the defendant was, was, was charged with, with, with, with, with murder, and the, the, the evidence presented was\""
      ]
     },
     "execution_count": 8,
     "metadata": {},
     "output_type": "execute_result"
    }
   ],
   "source": [
    "teacher_completion"
   ]
  },
  {
   "cell_type": "code",
   "execution_count": 9,
   "metadata": {},
   "outputs": [
    {
     "name": "stdout",
     "output_type": "stream",
     "text": [
      "B:: And nothing is being done about it. Uh, the laws exist and are frequently upheld in, in, uh, in Appeals Court just because of technicalities and because of maybe small little holes that their defending attorney can find. And it's, it's really getting out of hand in many states.\n",
      "A:: Well, the term technicality . The law enforcement community, uh, uh, you know, has to, has to separate the difference between somebody who is being set up in which, uh, grievous acts are done to, uh, to, you know, to get somebody into a, a situation where they're going to be guilty of, of a crime. Or whether, uh, and whether the rights of that individual are been, have been, you know, impuned. Uh, but or whether there's just, you know, a policeman has just made a, uh, a, you know, a non, a noncritical error, though be it not the right way to do it but, but, you know, the, the merits of the case in terms of, you know, the guy was a law breaker, as being supportive. Now, I, I'm, at this juncture I, you know, I'm, I'm not sure, you know, what constitutes a, a technicality. You know, that, that's what all these, these hearings are about and that's what all these, you know, court cases are about. I mean our, uh, our, our glorious, uh, you know, mayor here in Washington is six days away from getting out of, out of the can and, uh, you know, he, he tried to appeal his conviction. Uh, and, you know, it didn't work. But be that as it may, everybody who got enough money will pump the appeal process dry. Uh, in, in the old days, you know, and say round about times of battle of Hastings, you know, and the villages if you were a transgressor, they, they either, you know, drove you out in the woods or you became a ward of somebody and he, you were his slave. And if he didn't like what you did, he killed you. And that has, that's pretty effective. Uh, you know, it's not good for civil rights, I guess, but it's pretty effective in that, you know, you've got to get along in the community and if you don't you'll perish. Either by the hand of your, your, your master or by being pushed out in the woods. So, I, I, I mean as, as man has gotten more complicated so all of the, uh, imaginations to, uh, you know, protect him from, from being, uh, dumped on by, uh, civilian authority in, in in criminal actions, especially, you know, murder cases and that sort of thing.\n",
      "B:: Well, it seems like well it, it seems as if in the past typically there have been a lot of cases of people being wrongly tried or wrongly punished, and the whole idea behind the current criminal process system is to protect those who actually didn't the crimes, albeit it seems that we are failing in that, in that ultimate goal because there are times when people who are guilty are getting off. Um, for instance, um there's a case a few years back where, uh, someone, uh, someone who's being convicted for, was under a was going to trial for murder, was let off because of a technicality in that. The the arresting officer, uh, did not read the defendant their rights.\n",
      "A:: Uh-huh.\n",
      "B:: And where his, old evidence was there, the witnesses were there, the, everything was conclusively pointing to this individual yet\n"
     ]
    }
   ],
   "source": [
    "print(test_text)"
   ]
  },
  {
   "cell_type": "markdown",
   "metadata": {},
   "source": [
    "### test interact function"
   ]
  },
  {
   "cell_type": "code",
   "execution_count": 10,
   "metadata": {},
   "outputs": [
    {
     "name": "stderr",
     "output_type": "stream",
     "text": [
      "`generation_config` default values have been modified to match model-specific defaults: {'pad_token_id': 1, 'bos_token_id': 2, 'eos_token_id': 2}. If this is not desired, please set these values explicitly.\n",
      "The attention mask and the pad token id were not set. As a consequence, you may observe unexpected behavior. Please pass your input's `attention_mask` to obtain reliable results.\n",
      "Setting `pad_token_id` to `eos_token_id`:128001 for open-end generation.\n"
     ]
    }
   ],
   "source": [
    "result1 = test_interaction_model.interact(test_text)"
   ]
  },
  {
   "cell_type": "markdown",
   "metadata": {},
   "source": [
    "### test reward"
   ]
  },
  {
   "cell_type": "code",
   "execution_count": 11,
   "metadata": {},
   "outputs": [
    {
     "name": "stderr",
     "output_type": "stream",
     "text": [
      "/home/administrator/anaconda3/envs/babylm_old_trl/lib/python3.11/site-packages/torch/cuda/__init__.py:789: UserWarning: Can't initialize NVML\n",
      "  warnings.warn(\"Can't initialize NVML\")\n"
     ]
    },
    {
     "name": "stdout",
     "output_type": "stream",
     "text": [
      "Loading Spacy\n",
      "Loading Spacy Model\n",
      "Loading LSA vector space...\n",
      "Loading LDA vector space...\n",
      "Loading word2vec vector space...\n",
      "TAACO processor initialized successfully\n"
     ]
    }
   ],
   "source": [
    "from core.custom_components.custom_reward_model.taaco_reward_model import TAACORewardModel\n",
    "\n",
    "sampleVars = {\"sourceKeyOverlap\" : False, \"sourceLSA\" : False, \"sourceLDA\" : False, \"sourceWord2vec\" : False, \"wordsAll\" : True, \"wordsContent\" : True, \"wordsFunction\" : True, \"wordsNoun\" : True, \"wordsPronoun\" : True, \"wordsArgument\" : True, \"wordsVerb\" : True, \"wordsAdjective\" : True, \"wordsAdverb\" : True, \"overlapSentence\" : True, \"overlapParagraph\" : True, \"overlapAdjacent\" : True, \"overlapAdjacent2\" : True, \"otherTTR\" : True, \"otherConnectives\" : True, \"otherGivenness\" : True, \"overlapLSA\" : True, \"overlapLDA\" : True, \"overlapWord2vec\" : True, \"overlapSynonym\" : True, \"overlapNgrams\" : True, \"outputTagged\" : False, \"outputDiagnostic\" : False}\n",
    "taaco_reward_model = TAACORewardModel(taaco_vars=sampleVars)\n"
   ]
  },
  {
   "cell_type": "code",
   "execution_count": null,
   "metadata": {},
   "outputs": [
    {
     "data": {
      "text/plain": [
       "{'child_query': tensor([    1,    35,    27,    27,  1159,  5339,   304,  1105,  2640,   550,\n",
       "           392,    15,   406,    73,    13,   263,  3806,  3351,   291,   385,\n",
       "          9834,   644,   259,   400,   284,    13,   284,    13,   222,  8312,\n",
       "            13,   284,  3162,    70,   690,  3424,  1074,   635,   283, 11152,\n",
       "           785,   291,   635,   283,  7578,  1147,  1531,  7345,   374,   548,\n",
       "         15744, 13213,   494,   979,    15,  1159,   392,   417,    13,   392,\n",
       "           417,  1589,  2809,   607,   283,  2205,   284,   724,  2650,    15,\n",
       "           200,    34,    27,    27,  5687,    13,   263,  1839, 11152,   422,\n",
       "          1195,   318,  1481, 10543,  7717,  2692,    13,   222,  8312,    13,\n",
       "           222,  8312,    13,   524,  1152,    13,   488,   293,    13,   488,\n",
       "           293,  5222,   263,  5007,  1022, 13349,   567,   304,  1105,  1136,\n",
       "           644,   284,   576,    13,   222,  8312,    13,  1033,  3393,   547,\n",
       "          6874,   385,  2640,   293,    13,   222,  8312,    13,   293,    13,\n",
       "           524,  1152,    13,   293,   762, 13349,   723,   260,    13,   260,\n",
       "          5592,   910,   506,  3863,  1721,   293,   336,  9323,   283,    13,\n",
       "           283,   260,  3811,    15,  1237,  3595,    13,   222,  8312,    13,\n",
       "           291,  3595,   263,  2796,   283,   374,  5135,   385,   699,    13,\n",
       "           500,   699,    13,   524,  1152,    13,  1682,   361,   279,    15,\n",
       "           406,    73,    13,   604,   415,  3595,   708,   417,  1074,    13,\n",
       "           524,  1152,    13,   260,  8753,  6020,   488,  1074,   750,   260,\n",
       "            13,   222,  8312,    13,   260,    13,   524,  1152,    13,   260,\n",
       "          2528,    13,   260,  2528,    68,   505,   554, 12500,    13,  1207,\n",
       "           336,   392,   514,   263,  1308,  1094,   293,   613,   392,   604,\n",
       "            13,   604,    13,   524,  1152,    13,   263,    13,   263,  3514,\n",
       "          1199,   283,   263,  2909,   284,  4844,   283,    13,   524,  1152,\n",
       "            13,   263, 11980,   335,   260,  1481,  1695,  2618,    13,   386,\n",
       "          1105,  1596,   479,    15,  2852,    13,   310,    13,   310,  6542,\n",
       "            13,   404,   497,  8758,   317,   486,   310,    13,   524,  1152,\n",
       "            13,   310,  6542,    13,   310,  6542,   514,  2902,    13,   524,\n",
       "          1152,    13,   860,  6081,  3014,   260,    13,   260, 11152,   422,\n",
       "            15,  1214,  1152,    13,   374,    13,   374,   417,   860,   572,\n",
       "          1012,    13,  1012,  4590,   638,   385,   550,   291,   374,   417,\n",
       "           860,   572,  1012,    13,   524,  1152,    13,  3768,  3454,   385,\n",
       "           550,    15,   310,  1719,  1181,    13,   222,  8312,    13,  1181,\n",
       "            13,  1181,  1725, 10398,    13,   222,  8312,    13,   524,  1152,\n",
       "            13,  6332,  2591,   284,  2230,   304,  1951,  2013,  1769,   383,\n",
       "          2809,   607,   283,    13,   607,   283,   263,   494,   291,    13,\n",
       "           222,  8312,    13,   524,  1152,    13,   384,    13,   384,  3537,\n",
       "           293,  8538,   475,  4871,  2096,    15,   406,    73,    13,   291,\n",
       "            13,   524,  1152,    13,   392,  3102,  1331,   763,    15,  1002,\n",
       "           336,   374,   386,   392,   994,    13,  9890,   567,  1550,  2393,\n",
       "          1959,   629,  7945,   263,  8538,  2102,  5299,    15,   406,    73,\n",
       "            13,   284,    13,   284,   263,  1139,  2013,    13,   524,  1152,\n",
       "            13,   291,  1625,  3201,   550,  1697,   283,  3688,   283,   324,\n",
       "           478,   638,    13,   524,  1152,    13,   291,   263,  8439,  1026,\n",
       "           524,   540,   260,  1473,  5598,   269,    13,   506,    13,   506,\n",
       "          3355,    13,   524,  1152,    13, 15007,   524,   607,   284,   263,\n",
       "         10275,   415,   524,  1034,   260,   270,   444,   283, 13349,   291,\n",
       "           384,    13,   524,   540,   475, 10288,    15,  1159,  1026,   384,\n",
       "          3102,  1331,   633,   860,   524,  1061,    13,   384,  2296,   524,\n",
       "            15,  1159,   374,   488,    13,   374,   417,  6524,  8674,    15,\n",
       "           406,    73,    13,   524,  1152,    13,   392,   417,   514,  1219,\n",
       "           347,  3118,  2796,    13,   310,  7299,    13,   604,   392,   417,\n",
       "          6524,  8674,   284,   374,    13,   524,  1152,    13,   524,  6858,\n",
       "          1550,   293,   762,  1844,   284,   263,  2692,   291,  1026,   524,\n",
       "          1993,  1331,   524,  5077,   764,   434,    15,   367,  2790,   402,\n",
       "           263,  2205,   283,   914,    13,   914,    13,   914,  5801,   415,\n",
       "           402,  1105, 10782,   607,   284,   263, 10275,    15,  1571,    13,\n",
       "           310,    13,   310,    13,   310,  1719,   386,    13,   386,  1218,\n",
       "           488, 12395,   639,  8497,   683,   572,   283,   263,    13,   222,\n",
       "          8312,    13,  3197,  8766,   293,    13,   222,  8312,    13,   524,\n",
       "          1152,    13,  2009,   845,   383,    13,   383,  1105,    13,   222,\n",
       "          8312,    13,   296,  1566,   279,   342,   402,    13,   222,  8312,\n",
       "            13, 13712, 10044,   284,    13,   284,   284,  8152,  5988,    13,\n",
       "          2905,    13,   524,  1152,    13,  4083,  3454,   291,   374,  5775,\n",
       "           283,  2805,    15,   200,    35,    27,    27,  5687,    13,   392,\n",
       "          5162,   633,  1168,   392,    13,   392,  5162,   386,  1026,   284,\n",
       "           263,  2468,  7759,   708,   500,   699,   260,  1215,   283,  3454,\n",
       "           283,   477,  1105,  4459,   349,  3537,   415,  4459,   349,  5502,\n",
       "          1211,    13,   291,   263,  2891,  2652,  3243,   263,  1871,  8152,\n",
       "          2102,  1330,   304,   293,  2009,  1792,   567,  3521,  3102,  1331,\n",
       "           263,  7566,    13,   376,  1874,   275,   392,  5162,   374,   464,\n",
       "           385,  2607,   289,   284,   374,    13,   284,   374, 14276,  3419,\n",
       "           635,   708,   385,  1697,   620,   477,   567,   385,  9323,   385,\n",
       "          2809,   794,    15, 11672,    13,   347,  8380,    13,   222,   397,\n",
       "           708,   417,   260,  2909,   260,  1774,   805,   993,   910,    13,\n",
       "           222,  8312,    13,  2635,    13,   222,  8312,    13,  2635,   567,\n",
       "           417,  1105,  9352,   347,    13,   335,   930,   260,   335,  1721,\n",
       "           293,  5335,   347,  4083,    13,   335,  1861,   794,   635,   283,\n",
       "           260, 11152,   422,   284,   374,    15,   318,   263,  3991,   289,\n",
       "          4919,    13,   222,  8312,    13,  1061,   514,   741,   263,  7818,\n",
       "           427,   548,  2796,    15,   200,    34,    27,    27,   406,    73,\n",
       "            14,  7366,    73,    15,   200,    35,    27,    27,  1159,   910,\n",
       "           475,    13,  1139,  5224,   335,   708,    13,   263, 10138,   271,\n",
       "           540,   708,    13,   263,    13,  3278,   335,   452,  4867,  3037,\n",
       "          1796,   996,   293,   497,  5135,  4076], device='cuda:0'),\n",
       " 'child_response': tensor([    1,    35,    27,    27,  1159,  5339,   304,  1105,  2640,   550,\n",
       "           392,    15,   406,    73,    13,   263,  3806,  3351,   291,   385,\n",
       "          9834,   644,   259,   400,   284,    13,   284,    13,   222,  8312,\n",
       "            13,   284,  3162,    70,   690,  3424,  1074,   635,   283, 11152,\n",
       "           785,   291,   635,   283,  7578,  1147,  1531,  7345,   374,   548,\n",
       "         15744, 13213,   494,   979,    15,  1159,   392,   417,    13,   392,\n",
       "           417,  1589,  2809,   607,   283,  2205,   284,   724,  2650,    15,\n",
       "           200,    34,    27,    27,  5687,    13,   263,  1839, 11152,   422,\n",
       "          1195,   318,  1481, 10543,  7717,  2692,    13,   222,  8312,    13,\n",
       "           222,  8312,    13,   524,  1152,    13,   488,   293,    13,   488,\n",
       "           293,  5222,   263,  5007,  1022, 13349,   567,   304,  1105,  1136,\n",
       "           644,   284,   576,    13,   222,  8312,    13,  1033,  3393,   547,\n",
       "          6874,   385,  2640,   293,    13,   222,  8312,    13,   293,    13,\n",
       "           524,  1152,    13,   293,   762, 13349,   723,   260,    13,   260,\n",
       "          5592,   910,   506,  3863,  1721,   293,   336,  9323,   283,    13,\n",
       "           283,   260,  3811,    15,  1237,  3595,    13,   222,  8312,    13,\n",
       "           291,  3595,   263,  2796,   283,   374,  5135,   385,   699,    13,\n",
       "           500,   699,    13,   524,  1152,    13,  1682,   361,   279,    15,\n",
       "           406,    73,    13,   604,   415,  3595,   708,   417,  1074,    13,\n",
       "           524,  1152,    13,   260,  8753,  6020,   488,  1074,   750,   260,\n",
       "            13,   222,  8312,    13,   260,    13,   524,  1152,    13,   260,\n",
       "          2528,    13,   260,  2528,    68,   505,   554, 12500,    13,  1207,\n",
       "           336,   392,   514,   263,  1308,  1094,   293,   613,   392,   604,\n",
       "            13,   604,    13,   524,  1152,    13,   263,    13,   263,  3514,\n",
       "          1199,   283,   263,  2909,   284,  4844,   283,    13,   524,  1152,\n",
       "            13,   263, 11980,   335,   260,  1481,  1695,  2618,    13,   386,\n",
       "          1105,  1596,   479,    15,  2852,    13,   310,    13,   310,  6542,\n",
       "            13,   404,   497,  8758,   317,   486,   310,    13,   524,  1152,\n",
       "            13,   310,  6542,    13,   310,  6542,   514,  2902,    13,   524,\n",
       "          1152,    13,   860,  6081,  3014,   260,    13,   260, 11152,   422,\n",
       "            15,  1214,  1152,    13,   374,    13,   374,   417,   860,   572,\n",
       "          1012,    13,  1012,  4590,   638,   385,   550,   291,   374,   417,\n",
       "           860,   572,  1012,    13,   524,  1152,    13,  3768,  3454,   385,\n",
       "           550,    15,   310,  1719,  1181,    13,   222,  8312,    13,  1181,\n",
       "            13,  1181,  1725, 10398,    13,   222,  8312,    13,   524,  1152,\n",
       "            13,  6332,  2591,   284,  2230,   304,  1951,  2013,  1769,   383,\n",
       "          2809,   607,   283,    13,   607,   283,   263,   494,   291,    13,\n",
       "           222,  8312,    13,   524,  1152,    13,   384,    13,   384,  3537,\n",
       "           293,  8538,   475,  4871,  2096,    15,   406,    73,    13,   291,\n",
       "            13,   524,  1152,    13,   392,  3102,  1331,   763,    15,  1002,\n",
       "           336,   374,   386,   392,   994,    13,  9890,   567,  1550,  2393,\n",
       "          1959,   629,  7945,   263,  8538,  2102,  5299,    15,   406,    73,\n",
       "            13,   284,    13,   284,   263,  1139,  2013,    13,   524,  1152,\n",
       "            13,   291,  1625,  3201,   550,  1697,   283,  3688,   283,   324,\n",
       "           478,   638,    13,   524,  1152,    13,   291,   263,  8439,  1026,\n",
       "           524,   540,   260,  1473,  5598,   269,    13,   506,    13,   506,\n",
       "          3355,    13,   524,  1152,    13, 15007,   524,   607,   284,   263,\n",
       "         10275,   415,   524,  1034,   260,   270,   444,   283, 13349,   291,\n",
       "           384,    13,   524,   540,   475, 10288,    15,  1159,  1026,   384,\n",
       "          3102,  1331,   633,   860,   524,  1061,    13,   384,  2296,   524,\n",
       "            15,  1159,   374,   488,    13,   374,   417,  6524,  8674,    15,\n",
       "           406,    73,    13,   524,  1152,    13,   392,   417,   514,  1219,\n",
       "           347,  3118,  2796,    13,   310,  7299,    13,   604,   392,   417,\n",
       "          6524,  8674,   284,   374,    13,   524,  1152,    13,   524,  6858,\n",
       "          1550,   293,   762,  1844,   284,   263,  2692,   291,  1026,   524,\n",
       "          1993,  1331,   524,  5077,   764,   434,    15,   367,  2790,   402,\n",
       "           263,  2205,   283,   914,    13,   914,    13,   914,  5801,   415,\n",
       "           402,  1105, 10782,   607,   284,   263, 10275,    15,  1571,    13,\n",
       "           310,    13,   310,    13,   310,  1719,   386,    13,   386,  1218,\n",
       "           488, 12395,   639,  8497,   683,   572,   283,   263,    13,   222,\n",
       "          8312,    13,  3197,  8766,   293,    13,   222,  8312,    13,   524,\n",
       "          1152,    13,  2009,   845,   383,    13,   383,  1105,    13,   222,\n",
       "          8312,    13,   296,  1566,   279,   342,   402,    13,   222,  8312,\n",
       "            13, 13712, 10044,   284,    13,   284,   284,  8152,  5988,    13,\n",
       "          2905,    13,   524,  1152,    13,  4083,  3454,   291,   374,  5775,\n",
       "           283,  2805,    15,   200,    35,    27,    27,  5687,    13,   392,\n",
       "          5162,   633,  1168,   392,    13,   392,  5162,   386,  1026,   284,\n",
       "           263,  2468,  7759,   708,   500,   699,   260,  1215,   283,  3454,\n",
       "           283,   477,  1105,  4459,   349,  3537,   415,  4459,   349,  5502,\n",
       "          1211,    13,   291,   263,  2891,  2652,  3243,   263,  1871,  8152,\n",
       "          2102,  1330,   304,   293,  2009,  1792,   567,  3521,  3102,  1331,\n",
       "           263,  7566,    13,   376,  1874,   275,   392,  5162,   374,   464,\n",
       "           385,  2607,   289,   284,   374,    13,   284,   374, 14276,  3419,\n",
       "           635,   708,   385,  1697,   620,   477,   567,   385,  9323,   385,\n",
       "          2809,   794,    15, 11672,    13,   347,  8380,    13,   222,   397,\n",
       "           708,   417,   260,  2909,   260,  1774,   805,   993,   910,    13,\n",
       "           222,  8312,    13,  2635,    13,   222,  8312,    13,  2635,   567,\n",
       "           417,  1105,  9352,   347,    13,   335,   930,   260,   335,  1721,\n",
       "           293,  5335,   347,  4083,    13,   335,  1861,   794,   635,   283,\n",
       "           260, 11152,   422,   284,   374,    15,   318,   263,  3991,   289,\n",
       "          4919,    13,   222,  8312,    13,  1061,   514,   741,   263,  7818,\n",
       "           427,   548,  2796,    15,   200,    34,    27,    27,   406,    73,\n",
       "            14,  7366,    73,    15,   200,    35,    27,    27,  1159,   910,\n",
       "           475,    13,  1139,  5224,   335,   708,    13,   263, 10138,   271,\n",
       "           540,   708,    13,   263,    13,  3278,   335,   452,  4867,  3037,\n",
       "          1796,   996,   293,   497,  5135,  4076,   128,   108,    52,  3438,\n",
       "           128,   108,    13,  4414,   108,   332,  3837,   128,   108,    13,\n",
       "           128,   108,   332,  3837,   128,   108,   332,  3837,   128,   108,\n",
       "           332,  3837,   128,   108,   332,  3837,   128,   108,   332,  3837,\n",
       "           128,   108,   332,  3837,   128,   108,   332,  3837,   128,   108,\n",
       "           332,  3837,   128,   108,   332,  3837,   128,   108,   332,  3837,\n",
       "           128,   108,   332,  3837,   128,   108,   332,  3837,   128,   108,\n",
       "           332,  3837,   128,   108,   332,  3837,   128,   108,   332,  3837,\n",
       "           128,   108,   332,  3837,   128,   108,   332,  3837,   128,   108,\n",
       "           332,  3837,   128,   108,   332,  3837,   128,   108,   332,  3837,\n",
       "           128,   108,   332,  3837,   128,   108], device='cuda:0'),\n",
       " 'teacher_query': tensor([128000, 128000, 128006,  ...,  78191, 128007,    198], device='cuda:0'),\n",
       " 'teacher_response': tensor([128000, 128000, 128006,  ...,     11,  44844,     11], device='cuda:0'),\n",
       " 'decoded_child_query': \"B:: And nothing is being done about it. Uh, the laws exist and are frequently upheld in, in, uh, in Appeals Court just because of technicalities and because of maybe small little holes that their defending attorney can find. And it's, it's really getting out of hand in many states.\\nA:: Well, the term technicality . The law enforcement community, uh, uh, you know, has to, has to separate the difference between somebody who is being set up in which, uh, grievous acts are done to, uh, to, you know, to get somebody into a, a situation where they're going to be guilty of, of a crime. Or whether, uh, and whether the rights of that individual are been, have been, you know, impuned. Uh, but or whether there's just, you know, a policeman has just made a, uh, a, you know, a non, a noncritical error, though be it not the right way to do it but, but, you know, the, the merits of the case in terms of, you know, the guy was a law breaker, as being supportive. Now, I, I'm, at this juncture I, you know, I'm, I'm not sure, you know, what constitutes a, a technicality. You know, that, that's what all these, these hearings are about and that's what all these, you know, court cases are about. I mean our, uh, our, our glorious, uh, you know, mayor here in Washington is six days away from getting out of, out of the can and, uh, you know, he, he tried to appeal his conviction. Uh, and, you know, it didn't work. But be that as it may, everybody who got enough money will pump the appeal process dry. Uh, in, in the old days, you know, and say round about times of battle of Hastings, you know, and the villages if you were a transgressor, they, they either, you know, drove you out in the woods or you became a ward of somebody and he, you were his slave. And if he didn't like what you did, he killed you. And that has, that's pretty effective. Uh, you know, it's not good for civil rights, I guess, but it's pretty effective in that, you know, you've got to get along in the community and if you don't you'll perish. Either by the hand of your, your, your master or by being pushed out in the woods. So, I, I, I mean as, as man has gotten more complicated so all of the, uh, imaginations to, uh, you know, protect him from, from being, uh, dumped on by, uh, civilian authority in, in in criminal actions, especially, you know, murder cases and that sort of thing.\\nB:: Well, it seems like well it, it seems as if in the past typically there have been a lot of cases of people being wrongly tried or wrongly punished, and the whole idea behind the current criminal process system is to protect those who actually didn't the crimes, albeit it seems that we are failing in that, in that ultimate goal because there are times when people who are guilty are getting off. Um, for instance, um there's a case a few years back where, uh, someone, uh, someone who's being convicted for, was under a was going to trial for murder, was let off because of a technicality in that. The the arresting officer, uh, did not read the defendant their rights.\\nA:: Uh-huh.\\nB:: And where his, old evidence was there, the witnesses were there, the, everything was conclusively pointing to this individual yet\",\n",
       " 'decoded_child_response': \"B:: And nothing is being done about it. Uh, the laws exist and are frequently upheld in, in, uh, in Appeals Court just because of technicalities and because of maybe small little holes that their defending attorney can find. And it's, it's really getting out of hand in many states.\\nA:: Well, the term technicality . The law enforcement community, uh, uh, you know, has to, has to separate the difference between somebody who is being set up in which, uh, grievous acts are done to, uh, to, you know, to get somebody into a, a situation where they're going to be guilty of, of a crime. Or whether, uh, and whether the rights of that individual are been, have been, you know, impuned. Uh, but or whether there's just, you know, a policeman has just made a, uh, a, you know, a non, a noncritical error, though be it not the right way to do it but, but, you know, the, the merits of the case in terms of, you know, the guy was a law breaker, as being supportive. Now, I, I'm, at this juncture I, you know, I'm, I'm not sure, you know, what constitutes a, a technicality. You know, that, that's what all these, these hearings are about and that's what all these, you know, court cases are about. I mean our, uh, our, our glorious, uh, you know, mayor here in Washington is six days away from getting out of, out of the can and, uh, you know, he, he tried to appeal his conviction. Uh, and, you know, it didn't work. But be that as it may, everybody who got enough money will pump the appeal process dry. Uh, in, in the old days, you know, and say round about times of battle of Hastings, you know, and the villages if you were a transgressor, they, they either, you know, drove you out in the woods or you became a ward of somebody and he, you were his slave. And if he didn't like what you did, he killed you. And that has, that's pretty effective. Uh, you know, it's not good for civil rights, I guess, but it's pretty effective in that, you know, you've got to get along in the community and if you don't you'll perish. Either by the hand of your, your, your master or by being pushed out in the woods. So, I, I, I mean as, as man has gotten more complicated so all of the, uh, imaginations to, uh, you know, protect him from, from being, uh, dumped on by, uh, civilian authority in, in in criminal actions, especially, you know, murder cases and that sort of thing.\\nB:: Well, it seems like well it, it seems as if in the past typically there have been a lot of cases of people being wrongly tried or wrongly punished, and the whole idea behind the current criminal process system is to protect those who actually didn't the crimes, albeit it seems that we are failing in that, in that ultimate goal because there are times when people who are guilty are getting off. Um, for instance, um there's a case a few years back where, uh, someone, uh, someone who's being convicted for, was under a was going to trial for murder, was let off because of a technicality in that. The the arresting officer, uh, did not read the defendant their rights.\\nA:: Uh-huh.\\nB:: And where his, old evidence was there, the witnesses were there, the, everything was conclusively pointing to this individual yet®S Stan®, Lo�� lower®,®� lower®� lower®� lower®� lower®� lower®� lower®� lower®� lower®� lower®� lower®� lower®� lower®� lower®� lower®� lower®� lower®� lower®� lower®� lower®� lower®� lower®\",\n",
       " 'decoded_teacher_query': \"system\\nYou are an expert dialogue completion assistant. \\n        You will be given a partial dialogue and a child model's continuation attempt. \\n        Your task is to generate a high-quality completion of the partial dialogue.\\n        Take reference from the child continuation, make a continuation that is of similar length and topic but more coherent, fluent, grammatically correct and more contextually appropriate.\\n        If the child's continuation is gibberish, you should generate a completion that is coherent and contextually appropriate.\\n        Your completion should be one round conversation as A or B in the dialogue, dont generate multiple rounds of conversation.\\n        You should only provide your own completion without any added commentary or feedback.\\n        user\\nOriginal partial dialogue:\\nB:: And nothing is being done about it. Uh, the laws exist and are frequently upheld in, in, uh, in Appeals Court just because of technicalities and because of maybe small little holes that their defending attorney can find. And it's, it's really getting out of hand in many states.\\nA:: Well, the term technicality. The law enforcement community, uh, uh, you know, has to, has to separate the difference between somebody who is being set up in which, uh, grievous acts are done to, uh, to, you know, to get somebody into a, a situation where they're going to be guilty of, of a crime. Or whether, uh, and whether the rights of that individual are been, have been, you know, impuned. Uh, but or whether there's just, you know, a policeman has just made a, uh, a, you know, a non, a noncritical error, though be it not the right way to do it but, but, you know, the, the merits of the case in terms of, you know, the guy was a law breaker, as being supportive. Now, I, I'm, at this juncture I, you know, I'm, I'm not sure, you know, what constitutes a, a technicality. You know, that, that's what all these, these hearings are about and that's what all these, you know, court cases are about. I mean our, uh, our, our glorious, uh, you know, mayor here in Washington is six days away from getting out of, out of the can and, uh, you know, he, he tried to appeal his conviction. Uh, and, you know, it didn't work. But be that as it may, everybody who got enough money will pump the appeal process dry. Uh, in, in the old days, you know, and say round about times of battle of Hastings, you know, and the villages if you were a transgressor, they, they either, you know, drove you out in the woods or you became a ward of somebody and he, you were his slave. And if he didn't like what you did, he killed you. And that has, that's pretty effective. Uh, you know, it's not good for civil rights, I guess, but it's pretty effective in that, you know, you've got to get along in the community and if you don't you'll perish. Either by the hand of your, your, your master or by being pushed out in the woods. So, I, I, I mean as, as man has gotten more complicated so all of the, uh, imaginations to, uh, you know, protect him from, from being, uh, dumped on by, uh, civilian authority in, in in criminal actions, especially, you know, murder cases and that sort of thing.\\nB:: Well, it seems like well it, it seems as if in the past typically there have been a lot of cases of people being wrongly tried or wrongly punished, and the whole idea behind the current criminal process system is to protect those who actually didn't the crimes, albeit it seems that we are failing in that, in that ultimate goal because there are times when people who are guilty are getting off. Um, for instance, um there's a case a few years back where, uh, someone, uh, someone who's being convicted for, was under a was going to trial for murder, was let off because of a technicality in that. The the arresting officer, uh, did not read the defendant their rights.\\nA:: Uh-huh.\\nB:: And where his, old evidence was there, the witnesses were there, the, everything was conclusively pointing to this individual yet\\n\\nChild model's continuation:\\n®S Stan®, Lo�� lower®,®� lower®� lower®� lower®� lower®� lower®� lower®� lower®� lower®� lower®� lower®� lower®� lower®� lower®� lower®� lower®� lower®� lower®� lower®� lower®� lower®� lower®\\n\\nPlease generate a high-quality completion of the dialogue, taking into account the child's attempt but improving:assistant\\n\",\n",
       " 'decoded_teacher_response': \"<|begin_of_text|><|begin_of_text|><|start_header_id|>system<|end_header_id|>\\nYou are an expert dialogue completion assistant. \\n        You will be given a partial dialogue and a child model's continuation attempt. \\n        Your task is to generate a high-quality completion of the partial dialogue.\\n        Take reference from the child continuation, make a continuation that is of similar length and topic but more coherent, fluent, grammatically correct and more contextually appropriate.\\n        If the child's continuation is gibberish, you should generate a completion that is coherent and contextually appropriate.\\n        Your completion should be one round conversation as A or B in the dialogue, dont generate multiple rounds of conversation.\\n        You should only provide your own completion without any added commentary or feedback.\\n        <|eot_id|><|start_header_id|>user<|end_header_id|>\\nOriginal partial dialogue:\\nB:: And nothing is being done about it. Uh, the laws exist and are frequently upheld in, in, uh, in Appeals Court just because of technicalities and because of maybe small little holes that their defending attorney can find. And it's, it's really getting out of hand in many states.\\nA:: Well, the term technicality. The law enforcement community, uh, uh, you know, has to, has to separate the difference between somebody who is being set up in which, uh, grievous acts are done to, uh, to, you know, to get somebody into a, a situation where they're going to be guilty of, of a crime. Or whether, uh, and whether the rights of that individual are been, have been, you know, impuned. Uh, but or whether there's just, you know, a policeman has just made a, uh, a, you know, a non, a noncritical error, though be it not the right way to do it but, but, you know, the, the merits of the case in terms of, you know, the guy was a law breaker, as being supportive. Now, I, I'm, at this juncture I, you know, I'm, I'm not sure, you know, what constitutes a, a technicality. You know, that, that's what all these, these hearings are about and that's what all these, you know, court cases are about. I mean our, uh, our, our glorious, uh, you know, mayor here in Washington is six days away from getting out of, out of the can and, uh, you know, he, he tried to appeal his conviction. Uh, and, you know, it didn't work. But be that as it may, everybody who got enough money will pump the appeal process dry. Uh, in, in the old days, you know, and say round about times of battle of Hastings, you know, and the villages if you were a transgressor, they, they either, you know, drove you out in the woods or you became a ward of somebody and he, you were his slave. And if he didn't like what you did, he killed you. And that has, that's pretty effective. Uh, you know, it's not good for civil rights, I guess, but it's pretty effective in that, you know, you've got to get along in the community and if you don't you'll perish. Either by the hand of your, your, your master or by being pushed out in the woods. So, I, I, I mean as, as man has gotten more complicated so all of the, uh, imaginations to, uh, you know, protect him from, from being, uh, dumped on by, uh, civilian authority in, in in criminal actions, especially, you know, murder cases and that sort of thing.\\nB:: Well, it seems like well it, it seems as if in the past typically there have been a lot of cases of people being wrongly tried or wrongly punished, and the whole idea behind the current criminal process system is to protect those who actually didn't the crimes, albeit it seems that we are failing in that, in that ultimate goal because there are times when people who are guilty are getting off. Um, for instance, um there's a case a few years back where, uh, someone, uh, someone who's being convicted for, was under a was going to trial for murder, was let off because of a technicality in that. The the arresting officer, uh, did not read the defendant their rights.\\nA:: Uh-huh.\\nB:: And where his, old evidence was there, the witnesses were there, the, everything was conclusively pointing to this individual yet\\n\\nChild model's continuation:\\n®S Stan®, Lo�� lower®,®� lower®� lower®� lower®� lower®� lower®� lower®� lower®� lower®� lower®� lower®� lower®� lower®� lower®� lower®� lower®� lower®� lower®� lower®� lower®� lower®� lower®\\n\\nPlease generate a high-quality completion of the dialogue, taking into account the child's attempt but improving:<|eot_id|><|start_header_id|>assistant<|end_header_id|>\\nB:: Well, it seems like well it, it seems as if in the past typically there have been a lot of cases of people being wrongly tried or wrongly punished, and the whole idea behind the current criminal process system is to protect those who actually didn't the crimes, albeit it seems that we are failing in that, in that ultimate goal because there are times when people who are guilty are getting off. Um, for instance, um there's a case a few years back where, uh,\",\n",
       " 'child_continuation': '®S Stan®, Lo�� lower®,®� lower®� lower®� lower®� lower®� lower®� lower®� lower®� lower®� lower®� lower®� lower®� lower®� lower®� lower®� lower®� lower®� lower®� lower®� lower®� lower®� lower®',\n",
       " 'teacher_completion': \"B:: Well, it seems like well it, it seems as if in the past typically there have been a lot of cases of people being wrongly tried or wrongly punished, and the whole idea behind the current criminal process system is to protect those who actually didn't the crimes, albeit it seems that we are failing in that, in that ultimate goal because there are times when people who are guilty are getting off. Um, for instance, um there's a case a few years back where, uh,\",\n",
       " 'partial_dialogue': \"B:: And nothing is being done about it. Uh, the laws exist and are frequently upheld in, in, uh, in Appeals Court just because of technicalities and because of maybe small little holes that their defending attorney can find. And it's, it's really getting out of hand in many states.\\nA:: Well, the term technicality . The law enforcement community, uh, uh, you know, has to, has to separate the difference between somebody who is being set up in which, uh, grievous acts are done to, uh, to, you know, to get somebody into a, a situation where they're going to be guilty of, of a crime. Or whether, uh, and whether the rights of that individual are been, have been, you know, impuned. Uh, but or whether there's just, you know, a policeman has just made a, uh, a, you know, a non, a noncritical error, though be it not the right way to do it but, but, you know, the, the merits of the case in terms of, you know, the guy was a law breaker, as being supportive. Now, I, I'm, at this juncture I, you know, I'm, I'm not sure, you know, what constitutes a, a technicality. You know, that, that's what all these, these hearings are about and that's what all these, you know, court cases are about. I mean our, uh, our, our glorious, uh, you know, mayor here in Washington is six days away from getting out of, out of the can and, uh, you know, he, he tried to appeal his conviction. Uh, and, you know, it didn't work. But be that as it may, everybody who got enough money will pump the appeal process dry. Uh, in, in the old days, you know, and say round about times of battle of Hastings, you know, and the villages if you were a transgressor, they, they either, you know, drove you out in the woods or you became a ward of somebody and he, you were his slave. And if he didn't like what you did, he killed you. And that has, that's pretty effective. Uh, you know, it's not good for civil rights, I guess, but it's pretty effective in that, you know, you've got to get along in the community and if you don't you'll perish. Either by the hand of your, your, your master or by being pushed out in the woods. So, I, I, I mean as, as man has gotten more complicated so all of the, uh, imaginations to, uh, you know, protect him from, from being, uh, dumped on by, uh, civilian authority in, in in criminal actions, especially, you know, murder cases and that sort of thing.\\nB:: Well, it seems like well it, it seems as if in the past typically there have been a lot of cases of people being wrongly tried or wrongly punished, and the whole idea behind the current criminal process system is to protect those who actually didn't the crimes, albeit it seems that we are failing in that, in that ultimate goal because there are times when people who are guilty are getting off. Um, for instance, um there's a case a few years back where, uh, someone, uh, someone who's being convicted for, was under a was going to trial for murder, was let off because of a technicality in that. The the arresting officer, uh, did not read the defendant their rights.\\nA:: Uh-huh.\\nB:: And where his, old evidence was there, the witnesses were there, the, everything was conclusively pointing to this individual yet\"}"
      ]
     },
     "execution_count": 12,
     "metadata": {},
     "output_type": "execute_result"
    }
   ],
   "source": [
    "result1"
   ]
  },
  {
   "cell_type": "code",
   "execution_count": 13,
   "metadata": {},
   "outputs": [
    {
     "name": "stderr",
     "output_type": "stream",
     "text": [
      "/home/administrator/projects/babylm_reformed/babylm-interaction/TnD_reformed/experiments/formal_experiment1/TAACO/TAACO_pure_txt.py:790: RuntimeWarning: invalid value encountered in divide\n",
      "  return(np.sum([v for v in A * np.log2(A/B) if not np.isnan(v)]))\n",
      "/home/administrator/projects/babylm_reformed/babylm-interaction/TnD_reformed/experiments/formal_experiment1/TAACO/TAACO_pure_txt.py:790: RuntimeWarning: divide by zero encountered in log2\n",
      "  return(np.sum([v for v in A * np.log2(A/B) if not np.isnan(v)]))\n",
      "/home/administrator/projects/babylm_reformed/babylm-interaction/TnD_reformed/experiments/formal_experiment1/TAACO/TAACO_pure_txt.py:790: RuntimeWarning: invalid value encountered in multiply\n",
      "  return(np.sum([v for v in A * np.log2(A/B) if not np.isnan(v)]))\n"
     ]
    },
    {
     "data": {
      "text/plain": [
       "[tensor(-0.0040, device='cuda:0')]"
      ]
     },
     "execution_count": 13,
     "metadata": {},
     "output_type": "execute_result"
    }
   ],
   "source": [
    "taaco_reward_model.compute_rewards(\n",
    "    child_queries=[result1['partial_dialogue']],\n",
    "    child_responses=[result1['partial_dialogue'] + result1['child_continuation']],\n",
    "    teacher_queries=[result1['partial_dialogue']],\n",
    "    teacher_responses=[result1['partial_dialogue'] + result1['teacher_completion']]\n",
    ")"
   ]
  }
 ],
 "metadata": {
  "kernelspec": {
   "display_name": "babylm_old_trl",
   "language": "python",
   "name": "python3"
  },
  "language_info": {
   "codemirror_mode": {
    "name": "ipython",
    "version": 3
   },
   "file_extension": ".py",
   "mimetype": "text/x-python",
   "name": "python",
   "nbconvert_exporter": "python",
   "pygments_lexer": "ipython3",
   "version": "3.11.11"
  }
 },
 "nbformat": 4,
 "nbformat_minor": 2
}
