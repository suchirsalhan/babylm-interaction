{
 "cells": [
  {
   "cell_type": "code",
   "execution_count": 1,
   "metadata": {},
   "outputs": [
    {
     "name": "stderr",
     "output_type": "stream",
     "text": [
      "/home/administrator/anaconda3/envs/babylm_old_trl/lib/python3.11/site-packages/tqdm/auto.py:21: TqdmWarning: IProgress not found. Please update jupyter and ipywidgets. See https://ipywidgets.readthedocs.io/en/stable/user_install.html\n",
      "  from .autonotebook import tqdm as notebook_tqdm\n"
     ]
    }
   ],
   "source": [
    "import sys\n",
    "sys.path.append(\"..\")\n",
    "\n",
    "import torch\n",
    "from tqdm import tqdm\n",
    "import pandas as pd\n",
    "from datasets import load_dataset\n",
    "from transformers import AutoTokenizer\n",
    "\n",
    "from core.trainers.ppo_trainer.custom_ppo import CustomPPOTrainer\n",
    "from core.trainers.ppo_trainer.config import CustomPPOConfig\n",
    "from core.custom_components.custom_reward_model.sentiment_reward_model import SentimentRewardModel\n",
    "from trl.core import LengthSampler\n",
    "from trl import AutoModelForCausalLMWithValueHead"
   ]
  },
  {
   "cell_type": "code",
   "execution_count": 2,
   "metadata": {},
   "outputs": [],
   "source": [
    "def build_dataset(\n",
    "    config,\n",
    "    dataset_name=\"stanfordnlp/imdb\",\n",
    "    input_min_text_length=2,\n",
    "    input_max_text_length=8,\n",
    "):\n",
    "    \"\"\"Build dataset for training.\"\"\"\n",
    "    tokenizer = AutoTokenizer.from_pretrained(config.model_name)\n",
    "    tokenizer.pad_token = tokenizer.eos_token\n",
    "    \n",
    "    # load imdb with datasets\n",
    "    ds = load_dataset(dataset_name, split=\"train\")\n",
    "    ds = ds.rename_columns({\"text\": \"review\"})\n",
    "    ds = ds.filter(lambda x: len(x[\"review\"]) > 200, batched=False)\n",
    "\n",
    "    input_size = LengthSampler(input_min_text_length, input_max_text_length)\n",
    "\n",
    "    def tokenize(sample):\n",
    "        sample[\"input_ids\"] = tokenizer.encode(sample[\"review\"])[: input_size()]\n",
    "        sample[\"query\"] = tokenizer.decode(sample[\"input_ids\"])\n",
    "        return sample\n",
    "\n",
    "    ds = ds.map(tokenize, batched=False)\n",
    "    ds.set_format(type=\"torch\")\n",
    "    return ds"
   ]
  },
  {
   "cell_type": "code",
   "execution_count": 3,
   "metadata": {},
   "outputs": [],
   "source": [
    "# import wandb\n",
    "\n",
    "# wandb.init()"
   ]
  },
  {
   "cell_type": "code",
   "execution_count": 4,
   "metadata": {},
   "outputs": [
    {
     "name": "stderr",
     "output_type": "stream",
     "text": [
      "WARNING:root:A <class 'transformers.models.llama.modeling_llama.LlamaForCausalLM'> model is loaded from 'meta-llama/Llama-3.2-1B-Instruct', and no v_head weight is found. This IS expected if you are not resuming PPO training.\n",
      "WARNING:root:A <class 'transformers.models.llama.modeling_llama.LlamaForCausalLM'> model is loaded from 'meta-llama/Llama-3.2-1B-Instruct', and no v_head weight is found. This IS expected if you are not resuming PPO training.\n",
      "/home/administrator/anaconda3/envs/babylm_old_trl/lib/python3.11/site-packages/torch/cuda/__init__.py:789: UserWarning: Can't initialize NVML\n",
      "  warnings.warn(\"Can't initialize NVML\")\n"
     ]
    }
   ],
   "source": [
    "model_name = \"meta-llama/Llama-3.2-1B-Instruct\"\n",
    "device = \"cuda\" if torch.cuda.is_available() else \"cpu\"\n",
    "\n",
    "# Load tokenizers\n",
    "child_tokenizer = AutoTokenizer.from_pretrained(model_name)\n",
    "teacher_tokenizer = AutoTokenizer.from_pretrained(model_name)\n",
    "child_tokenizer.pad_token = child_tokenizer.eos_token\n",
    "teacher_tokenizer.pad_token = teacher_tokenizer.eos_token\n",
    "\n",
    "# Load models with value heads for PPO\n",
    "child_model = AutoModelForCausalLMWithValueHead.from_pretrained(model_name)\n",
    "teacher_model = AutoModelForCausalLMWithValueHead.from_pretrained(model_name)\n",
    "\n",
    "# Move models to device\n",
    "child_model.to(device)\n",
    "teacher_model.to(device)\n",
    "\n",
    "student_generation_args = {\n",
    "    \"max_new_tokens\": 100,\n",
    "    \"temperature\": 0.7,\n",
    "    \"top_p\": 0.9,\n",
    "    \"do_sample\": True,\n",
    "    \"pad_token_id\": child_tokenizer.eos_token_id\n",
    "}\n",
    "\n",
    "teacher_generation_args = {\n",
    "    \"max_new_tokens\": 150,\n",
    "    \"do_sample\": False,\n",
    "    \"pad_token_id\": teacher_tokenizer.eos_token_id\n",
    "}\n"
   ]
  },
  {
   "cell_type": "code",
   "execution_count": 5,
   "metadata": {},
   "outputs": [
    {
     "name": "stderr",
     "output_type": "stream",
     "text": [
      "/home/administrator/anaconda3/envs/babylm_old_trl/lib/python3.11/site-packages/trl/trainer/ppo_config.py:207: FutureWarning: `PPOConfig` is deprecated and will be removed in the future. Please use `PPOv2Config` with `PPOv2Trainer` instead.\n",
      "  warnings.warn(\n",
      "Device set to use cuda\n"
     ]
    }
   ],
   "source": [
    "config = CustomPPOConfig(\n",
    "    model_name=\"lvwerra/gpt2-imdb\",\n",
    "    learning_rate=1.41e-5,\n",
    "    log_with=\"wandb\",\n",
    "    \n",
    "    # Generation configs\n",
    "    child_generation_args=student_generation_args,\n",
    "    teacher_generation_args=teacher_generation_args,\n",
    "    \n",
    "    # custom interaction model\n",
    "    custom_interaction_model=\"test\",\n",
    ")\n",
    "\n",
    "# Initialize reward model\n",
    "sent_args = {\"top_k\": None, \"function_to_apply\": \"none\", \"batch_size\": 16}\n",
    "reward_model = SentimentRewardModel(device=device, sent_args=sent_args)"
   ]
  },
  {
   "cell_type": "code",
   "execution_count": 6,
   "metadata": {},
   "outputs": [
    {
     "name": "stderr",
     "output_type": "stream",
     "text": [
      "/home/administrator/anaconda3/envs/babylm_old_trl/lib/python3.11/site-packages/trl/trainer/ppo_trainer.py:193: FutureWarning: `PPOTrainer` is deprecated and will be removed in trl v0.12. Please use `PPOv2Trainer` instead.\n",
      "  warnings.warn(\n",
      "\u001b[34m\u001b[1mwandb\u001b[0m: Currently logged in as: \u001b[33mhongyi-gu\u001b[0m (\u001b[33mhongyi-gu-netmind-ai\u001b[0m) to \u001b[32mhttps://api.wandb.ai\u001b[0m. Use \u001b[1m`wandb login --relogin`\u001b[0m to force relogin\n"
     ]
    },
    {
     "data": {
      "text/html": [
       "Tracking run with wandb version 0.19.11"
      ],
      "text/plain": [
       "<IPython.core.display.HTML object>"
      ]
     },
     "metadata": {},
     "output_type": "display_data"
    },
    {
     "data": {
      "text/html": [
       "Run data is saved locally in <code>/home/administrator/projects/babylm_reformed/babylm-interaction/TnD_reformed/experiments/wandb/run-20250603_085724-18ea1jiw</code>"
      ],
      "text/plain": [
       "<IPython.core.display.HTML object>"
      ]
     },
     "metadata": {},
     "output_type": "display_data"
    },
    {
     "data": {
      "text/html": [
       "Syncing run <strong><a href='https://wandb.ai/hongyi-gu-netmind-ai/trl/runs/18ea1jiw' target=\"_blank\">revived-thunder-30</a></strong> to <a href='https://wandb.ai/hongyi-gu-netmind-ai/trl' target=\"_blank\">Weights & Biases</a> (<a href='https://wandb.me/developer-guide' target=\"_blank\">docs</a>)<br>"
      ],
      "text/plain": [
       "<IPython.core.display.HTML object>"
      ]
     },
     "metadata": {},
     "output_type": "display_data"
    },
    {
     "data": {
      "text/html": [
       " View project at <a href='https://wandb.ai/hongyi-gu-netmind-ai/trl' target=\"_blank\">https://wandb.ai/hongyi-gu-netmind-ai/trl</a>"
      ],
      "text/plain": [
       "<IPython.core.display.HTML object>"
      ]
     },
     "metadata": {},
     "output_type": "display_data"
    },
    {
     "data": {
      "text/html": [
       " View run at <a href='https://wandb.ai/hongyi-gu-netmind-ai/trl/runs/18ea1jiw' target=\"_blank\">https://wandb.ai/hongyi-gu-netmind-ai/trl/runs/18ea1jiw</a>"
      ],
      "text/plain": [
       "<IPython.core.display.HTML object>"
      ]
     },
     "metadata": {},
     "output_type": "display_data"
    }
   ],
   "source": [
    " # Build dataset\n",
    "dataset = build_dataset(config)\n",
    "\n",
    "# Initialize PPO trainer\n",
    "ppo_trainer = CustomPPOTrainer(\n",
    "    config=config,\n",
    "    child_model=child_model,\n",
    "    teacher_model=teacher_model,\n",
    "    ref_model=teacher_model,\n",
    "    reward_model=reward_model,\n",
    "    tokenizer=child_tokenizer,\n",
    "    teacher_tokenizer=teacher_tokenizer,\n",
    "    dataset=dataset,\n",
    ")"
   ]
  },
  {
   "cell_type": "code",
   "execution_count": null,
   "metadata": {},
   "outputs": [
    {
     "name": "stderr",
     "output_type": "stream",
     "text": [
      "  0%|          | 0/194 [00:00<?, ?it/s]The attention mask is not set and cannot be inferred from input because pad token is same as eos token. As a consequence, you may observe unexpected behavior. Please pass your input's `attention_mask` to obtain reliable results.\n"
     ]
    }
   ],
   "source": [
    "# Training loop\n",
    "output_min_length = 4\n",
    "output_max_length = 16\n",
    "output_length_sampler = LengthSampler(output_min_length, output_max_length)\n",
    "\n",
    "error_count = 0\n",
    "for epoch, batch in enumerate(tqdm(ppo_trainer.dataloader)):\n",
    "    query_tensors = batch[\"input_ids\"]\n",
    "\n",
    "    #TODO: \n",
    "    try:\n",
    "        # Run PPO step\n",
    "        stats, scores = ppo_trainer.step(\n",
    "            input_prompts=batch[\"query\"]\n",
    "        )\n",
    "    except Exception as e:\n",
    "        error_count += 1\n",
    "        continue\n",
    "    # Log stats\n",
    "\n",
    "    ppo_trainer.log_stats(stats, batch, scores, columns_to_log=[\"query\"])\n",
    "\n",
    "generation_kwargs = {\n",
    "    \"min_length\": -1,\n",
    "    \"top_k\": 0.0,\n",
    "    \"top_p\": 1.0,\n",
    "    \"do_sample\": True,\n",
    "    \"pad_token_id\": tokenizer.eos_token_id,\n",
    "}\n",
    "\n",
    "\n",
    "for epoch, batch in enumerate(tqdm(ppo_trainer.dataloader)):\n",
    "    pass"
   ]
  }
 ],
 "metadata": {
  "kernelspec": {
   "display_name": "babylm_old_trl",
   "language": "python",
   "name": "python3"
  },
  "language_info": {
   "codemirror_mode": {
    "name": "ipython",
    "version": 3
   },
   "file_extension": ".py",
   "mimetype": "text/x-python",
   "name": "python",
   "nbconvert_exporter": "python",
   "pygments_lexer": "ipython3",
   "version": "3.11.11"
  }
 },
 "nbformat": 4,
 "nbformat_minor": 2
}
