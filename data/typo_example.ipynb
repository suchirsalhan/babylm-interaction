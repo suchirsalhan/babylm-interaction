{
 "cells": [
  {
   "cell_type": "markdown",
   "metadata": {},
   "source": [
    "### Run sample code from Original TAACO github\n",
    "##### source: https://github.com/LCR-ADS-Lab/TAACO"
   ]
  },
  {
   "cell_type": "code",
   "execution_count": 1,
   "metadata": {},
   "outputs": [],
   "source": [
    "# from TAACOnoGUI import runTAACO\n",
    "# import os\n",
    "\n",
    "# #set processing options\n",
    "# sampleVars = {\"sourceKeyOverlap\" : False, \"sourceLSA\" : False, \"sourceLDA\" : False, \"sourceWord2vec\" : False, \"wordsAll\" : True, \"wordsContent\" : True, \"wordsFunction\" : True, \"wordsNoun\" : True, \"wordsPronoun\" : True, \"wordsArgument\" : True, \"wordsVerb\" : True, \"wordsAdjective\" : True, \"wordsAdverb\" : True, \"overlapSentence\" : True, \"overlapParagraph\" : True, \"overlapAdjacent\" : True, \"overlapAdjacent2\" : True, \"otherTTR\" : True, \"otherConnectives\" : True, \"otherGivenness\" : True, \"overlapLSA\" : True, \"overlapLDA\" : True, \"overlapWord2vec\" : True, \"overlapSynonym\" : True, \"overlapNgrams\" : True, \"outputTagged\" : False, \"outputDiagnostic\" : False}\n",
    "\n",
    "# # Run TAACO on a folder of texts (\"ELLIPSE_Sample/\"), give the output file a name (\"packageTest.csv), provide output for particular indices/options (as defined in sampleVars)\n",
    "# taaco_dir = \"/home/administrator/projects/babylm_reformed/babylm-interaction/TnD_reformed/experiments/formal_experiment1/TAACO\"\n",
    "# indir = os.path.join(taaco_dir, \"ELLIPSE_Sample\")\n",
    "# runTAACO(indir,\"packageTestself.csv\",sampleVars)"
   ]
  },
  {
   "cell_type": "code",
   "execution_count": 2,
   "metadata": {},
   "outputs": [],
   "source": [
    "import pandas as pd\n",
    "ref_df = pd.read_csv(\"packageTest.csv\")"
   ]
  },
  {
   "cell_type": "markdown",
   "metadata": {},
   "source": [
    "### Initiate reimplemented TAACO processor"
   ]
  },
  {
   "cell_type": "code",
   "execution_count": 3,
   "metadata": {},
   "outputs": [
    {
     "name": "stderr",
     "output_type": "stream",
     "text": [
      "/home/administrator/anaconda3/envs/babylm_old_trl/lib/python3.11/site-packages/torch/cuda/__init__.py:789: UserWarning: Can't initialize NVML\n",
      "  warnings.warn(\"Can't initialize NVML\")\n"
     ]
    },
    {
     "name": "stdout",
     "output_type": "stream",
     "text": [
      "Loading Spacy\n",
      "Loading Spacy Model\n",
      "Loading LSA vector space...\n",
      "Loading LDA vector space...\n",
      "Loading word2vec vector space...\n"
     ]
    }
   ],
   "source": [
    "from TAACO_pure_txt import TAACOProcessor\n",
    "sampleVars = {\"sourceKeyOverlap\" : False, \"sourceLSA\" : False, \"sourceLDA\" : False, \"sourceWord2vec\" : False, \"wordsAll\" : True, \"wordsContent\" : True, \"wordsFunction\" : True, \"wordsNoun\" : True, \"wordsPronoun\" : True, \"wordsArgument\" : True, \"wordsVerb\" : True, \"wordsAdjective\" : True, \"wordsAdverb\" : True, \"overlapSentence\" : True, \"overlapParagraph\" : True, \"overlapAdjacent\" : True, \"overlapAdjacent2\" : True, \"otherTTR\" : True, \"otherConnectives\" : True, \"otherGivenness\" : True, \"overlapLSA\" : True, \"overlapLDA\" : True, \"overlapWord2vec\" : True, \"overlapSynonym\" : True, \"overlapNgrams\" : True, \"outputTagged\" : False, \"outputDiagnostic\" : False}\n",
    "taaco_processor = TAACOProcessor(sampleVars)"
   ]
  },
  {
   "cell_type": "code",
   "execution_count": 4,
   "metadata": {},
   "outputs": [
    {
     "data": {
      "text/plain": [
       "['2DC55C3EFD7D.txt',\n",
       " '2CD73298526F.txt',\n",
       " '2C7A6E04F7D0.txt',\n",
       " '1B2B5D08014D.txt',\n",
       " '0DC7DEF31BE5.txt',\n",
       " '0ADBB145FC2C.txt',\n",
       " '1BE17E2DA549.txt',\n",
       " '0E03218FDD2F.txt',\n",
       " '0E5C8FE6867B.txt',\n",
       " '2D5A9BEEB30D.txt']"
      ]
     },
     "execution_count": 4,
     "metadata": {},
     "output_type": "execute_result"
    }
   ],
   "source": [
    "import random\n",
    "import os\n",
    "# random sample from sample folder\n",
    "sample_dir = \"/home/administrator/projects/babylm_reformed/babylm-interaction/TnD_reformed/experiments/formal_experiment1/TAACO/ELLIPSE_Sample\"\n",
    "# Get a list of .txt files from the directory\n",
    "all_txt_files = [f for f in os.listdir(sample_dir) if f.endswith('.txt')]\n",
    "\n",
    "# Randomly sample 10 files\n",
    "sampled_files = random.sample(all_txt_files, min(10, len(all_txt_files)))\n",
    "sampled_files\n"
   ]
  },
  {
   "cell_type": "markdown",
   "metadata": {},
   "source": [
    "### Test with the 10 sample file"
   ]
  },
  {
   "cell_type": "code",
   "execution_count": 5,
   "metadata": {},
   "outputs": [],
   "source": [
    "# compare utils\n",
    "def compare_dict_keys(dict1, dict2):\n",
    "    keys1 = set(dict1.keys())\n",
    "    keys2 = set(dict2.keys())\n",
    "\n",
    "    only_in_dict1 = keys1 - keys2\n",
    "    only_in_dict2 = keys2 - keys1\n",
    "\n",
    "    print(\"Keys only in dict1:\")\n",
    "    for key in sorted(only_in_dict1):\n",
    "        print(f\"  {key}\")\n",
    "\n",
    "    print(\"\\nKeys only in dict2:\")\n",
    "    for key in sorted(only_in_dict2):\n",
    "        print(f\"  {key}\")\n",
    "        \n",
    "def compare_dict_values(d1, d2, skip_keys=['Filename'], float_tol=1e-6):\n",
    "    mismatches = []\n",
    "\n",
    "    for key in d1:\n",
    "        if key in skip_keys:\n",
    "            continue\n",
    "        v1, v2 = d1[key], d2.get(key)\n",
    "\n",
    "        # Check exact match\n",
    "        if v1 == v2:\n",
    "            continue\n",
    "\n",
    "        # Try float comparison (for rounding differences)\n",
    "        try:\n",
    "            f1, f2 = float(v1), float(v2)\n",
    "            if abs(f1 - f2) <= float_tol:\n",
    "                continue\n",
    "        except (ValueError, TypeError):\n",
    "            pass  # Not comparable as float\n",
    "\n",
    "        mismatches.append((key, v1, v2))\n",
    "\n",
    "    # Print mismatched keys\n",
    "    if mismatches:\n",
    "        print(\"Mismatches found:\")\n",
    "        for key, v1, v2 in mismatches:\n",
    "            print(f\"  {key}: dict1 = {v1}, dict2 = {v2}\")\n",
    "    else:\n",
    "        print(\"All values match (within tolerance).\")"
   ]
  },
  {
   "cell_type": "code",
   "execution_count": 8,
   "metadata": {},
   "outputs": [
    {
     "name": "stderr",
     "output_type": "stream",
     "text": [
      "/home/administrator/projects/babylm_reformed/babylm-interaction/TnD_reformed/experiments/formal_experiment1/TAACO/TAACO_pure_txt.py:788: RuntimeWarning: invalid value encountered in divide\n",
      "  return(np.sum([v for v in A * np.log2(A/B) if not np.isnan(v)]))\n"
     ]
    },
    {
     "name": "stdout",
     "output_type": "stream",
     "text": [
      "lsa_1_all_sent: dict1 = 0.1991887674738411, dict2 = 0.19918876747384115\n",
      "lsa_1_all_para: dict1 = 0.6407977874685613, dict2 = 0.6407977874685613\n",
      "Mismatches found:\n",
      "  lsa_2_all_sent: dict1 = 0.6406531061529056, dict2 = 0.27930461329586465\n",
      "  lsa_2_all_para: dict1 = 0.8680621193884559, dict2 = 0.761624447880143\n",
      "  lda_1_all_sent: dict1 = 0.995958793591496, dict2 = 0.9284036333713962\n",
      "  lda_2_all_sent: dict1 = 0.9987034687003784, dict2 = 0.9652178179355368\n",
      "  lda_1_all_para: dict1 = 0.9971237670117952, dict2 = 0.992969756202071\n",
      "  lda_2_all_para: dict1 = 0.9975038151519175, dict2 = 0.9933527419953432\n",
      "  word2vec_1_all_sent: dict1 = 0.8878489149927214, dict2 = 0.4144912908109536\n",
      "  word2vec_2_all_sent: dict1 = 0.917700934786676, dict2 = 0.5127677884195543\n",
      "  word2vec_1_all_para: dict1 = 0.9268551047179744, dict2 = 0.7736774238211998\n",
      "  word2vec_2_all_para: dict1 = 0.9233350544626064, dict2 = 0.8134323191650548\n",
      "--------------------------------\n"
     ]
    },
    {
     "name": "stderr",
     "output_type": "stream",
     "text": [
      "/home/administrator/projects/babylm_reformed/babylm-interaction/TnD_reformed/experiments/formal_experiment1/TAACO/TAACO_pure_txt.py:788: RuntimeWarning: invalid value encountered in divide\n",
      "  return(np.sum([v for v in A * np.log2(A/B) if not np.isnan(v)]))\n"
     ]
    },
    {
     "name": "stdout",
     "output_type": "stream",
     "text": [
      "lsa_1_all_sent: dict1 = 0.3844599803755498, dict2 = 0.3844599803755498\n",
      "lsa_1_all_para: dict1 = 0.5216777301524778, dict2 = 0.5216777301524778\n",
      "Mismatches found:\n",
      "  lsa_2_all_sent: dict1 = 0.7570728844179143, dict2 = 0.45694803334016254\n",
      "  lsa_2_all_para: dict1 = 0.8098221534850519, dict2 = 0.6348930101882414\n",
      "  lda_1_all_sent: dict1 = 0.9823857836364108, dict2 = 0.9389752994119284\n",
      "  lda_2_all_sent: dict1 = 0.9959615615899864, dict2 = 0.9422508613053786\n",
      "  lda_1_all_para: dict1 = 0.9965941740615266, dict2 = 0.9938505011803672\n",
      "  lda_2_all_para: dict1 = 0.998226213415732, dict2 = 0.9927654232995149\n",
      "  word2vec_1_all_sent: dict1 = 0.9045152875123048, dict2 = 0.4840096265203779\n",
      "  word2vec_2_all_sent: dict1 = 0.9333193262178868, dict2 = 0.5644643880616086\n",
      "  word2vec_1_all_para: dict1 = 0.9133303790577968, dict2 = 0.7915589201060665\n",
      "  word2vec_2_all_para: dict1 = 0.9213195025352294, dict2 = 0.8332305595542056\n",
      "--------------------------------\n"
     ]
    },
    {
     "name": "stderr",
     "output_type": "stream",
     "text": [
      "/home/administrator/projects/babylm_reformed/babylm-interaction/TnD_reformed/experiments/formal_experiment1/TAACO/TAACO_pure_txt.py:788: RuntimeWarning: invalid value encountered in divide\n",
      "  return(np.sum([v for v in A * np.log2(A/B) if not np.isnan(v)]))\n"
     ]
    },
    {
     "name": "stdout",
     "output_type": "stream",
     "text": [
      "lsa_1_all_sent: dict1 = 0.6438680680834891, dict2 = 0.6438680680834891\n",
      "lsa_1_all_para: dict1 = 0.6839390197562243, dict2 = 0.6839390197562243\n",
      "Mismatches found:\n",
      "  lsa_2_all_sent: dict1 = 0.8311205840316533, dict2 = 0.6557505447999115\n",
      "  lsa_2_all_para: dict1 = 0.7262444232515506, dict2 = 0.6665018365219832\n",
      "  lda_1_all_sent: dict1 = 0.9942411005183412, dict2 = 0.98939343091416\n",
      "  lda_2_all_sent: dict1 = 0.9989244532024434, dict2 = 0.9865629682783625\n",
      "  lda_1_all_para: dict1 = 0.9984994965306426, dict2 = 0.9942689498264309\n",
      "  lda_2_all_para: dict1 = 0.998855063060324, dict2 = 0.994792583012772\n",
      "  word2vec_1_all_sent: dict1 = 0.9022833578304108, dict2 = 0.6357666386460628\n",
      "  word2vec_2_all_sent: dict1 = 0.920526775271102, dict2 = 0.6746253919625663\n",
      "  word2vec_1_all_para: dict1 = 0.8475532335747752, dict2 = 0.7488791892223261\n",
      "  word2vec_2_all_para: dict1 = 0.8152003162031809, dict2 = 0.7229226980830123\n",
      "--------------------------------\n"
     ]
    },
    {
     "name": "stderr",
     "output_type": "stream",
     "text": [
      "/home/administrator/projects/babylm_reformed/babylm-interaction/TnD_reformed/experiments/formal_experiment1/TAACO/TAACO_pure_txt.py:788: RuntimeWarning: invalid value encountered in divide\n",
      "  return(np.sum([v for v in A * np.log2(A/B) if not np.isnan(v)]))\n",
      "/home/administrator/projects/babylm_reformed/babylm-interaction/TnD_reformed/experiments/formal_experiment1/TAACO/TAACO_pure_txt.py:788: RuntimeWarning: divide by zero encountered in log2\n",
      "  return(np.sum([v for v in A * np.log2(A/B) if not np.isnan(v)]))\n",
      "/home/administrator/projects/babylm_reformed/babylm-interaction/TnD_reformed/experiments/formal_experiment1/TAACO/TAACO_pure_txt.py:788: RuntimeWarning: invalid value encountered in multiply\n",
      "  return(np.sum([v for v in A * np.log2(A/B) if not np.isnan(v)]))\n"
     ]
    },
    {
     "name": "stdout",
     "output_type": "stream",
     "text": [
      "lsa_1_all_sent: dict1 = 0.4259006877581646, dict2 = 0.42590068775816464\n",
      "lsa_1_all_para: dict1 = 0.8705828574318771, dict2 = 0.8705828574318771\n",
      "Mismatches found:\n",
      "  lsa_2_all_sent: dict1 = 0.7979304669104531, dict2 = 0.5167186026352338\n",
      "  lsa_2_all_para: dict1 = 0.9277206848302842, dict2 = 0.8886273786844887\n",
      "  lda_1_all_sent: dict1 = 0.9794465220583476, dict2 = 0.8667298410943853\n",
      "  lda_2_all_sent: dict1 = 0.9924960395601716, dict2 = 0.9107736099067123\n",
      "  lda_1_all_para: dict1 = 0.99982806198164, dict2 = 0.9992604144306141\n",
      "  lda_2_all_para: dict1 = 0.9997791422694244, dict2 = 0.9993869620288954\n",
      "  word2vec_1_all_sent: dict1 = 0.8818944532809341, dict2 = 0.40317808673116867\n",
      "  word2vec_2_all_sent: dict1 = 0.9168052270252712, dict2 = 0.47744262650333\n",
      "  word2vec_1_all_para: dict1 = 0.9283384403638544, dict2 = 0.8176096887632037\n",
      "  word2vec_2_all_para: dict1 = 0.9261419058275618, dict2 = 0.8640071267941504\n",
      "--------------------------------\n"
     ]
    },
    {
     "name": "stderr",
     "output_type": "stream",
     "text": [
      "/home/administrator/projects/babylm_reformed/babylm-interaction/TnD_reformed/experiments/formal_experiment1/TAACO/TAACO_pure_txt.py:788: RuntimeWarning: invalid value encountered in divide\n",
      "  return(np.sum([v for v in A * np.log2(A/B) if not np.isnan(v)]))\n"
     ]
    },
    {
     "name": "stdout",
     "output_type": "stream",
     "text": [
      "lsa_1_all_sent: dict1 = 0.7276457114533403, dict2 = 0.7276457114533403\n",
      "lsa_1_all_para: dict1 = 0.9565616874481532, dict2 = 0.9565616874481531\n",
      "Mismatches found:\n",
      "  lsa_2_all_sent: dict1 = 0.8949309606520511, dict2 = 0.7643945619098138\n",
      "  lsa_2_all_para: dict1 = 0.9835788976332346, dict2 = 0.9637806543076931\n",
      "  lda_1_all_sent: dict1 = 0.993891135276786, dict2 = 0.9737692964820097\n",
      "  lda_2_all_sent: dict1 = 0.9964632826922418, dict2 = 0.9810654517976024\n",
      "  lda_1_all_para: dict1 = 0.9991898607952148, dict2 = 0.9991296277015009\n",
      "  lda_2_all_para: dict1 = 0.9990289669227838, dict2 = 0.9978534134251129\n",
      "  word2vec_1_all_sent: dict1 = 0.9338111292868948, dict2 = 0.6822843885550844\n",
      "  word2vec_2_all_sent: dict1 = 0.9542276984592984, dict2 = 0.739059972490806\n",
      "  word2vec_1_all_para: dict1 = 0.9816040645997638, dict2 = 0.9098260088166622\n",
      "  word2vec_2_all_para: dict1 = 0.9798343226014454, dict2 = 0.9251658474259631\n",
      "--------------------------------\n"
     ]
    },
    {
     "name": "stderr",
     "output_type": "stream",
     "text": [
      "/home/administrator/projects/babylm_reformed/babylm-interaction/TnD_reformed/experiments/formal_experiment1/TAACO/TAACO_pure_txt.py:788: RuntimeWarning: invalid value encountered in divide\n",
      "  return(np.sum([v for v in A * np.log2(A/B) if not np.isnan(v)]))\n"
     ]
    },
    {
     "name": "stdout",
     "output_type": "stream",
     "text": [
      "lsa_1_all_sent: dict1 = 0.6411234984335109, dict2 = 0.6411234984335109\n",
      "lsa_1_all_para: dict1 = 0.0, dict2 = 0\n",
      "Mismatches found:\n",
      "  lsa_2_all_sent: dict1 = 0.8583076449140755, dict2 = 0.7217181312796633\n",
      "  lda_1_all_sent: dict1 = 0.9799627380146688, dict2 = 0.9699328016939289\n",
      "  lda_2_all_sent: dict1 = 0.9986487062528616, dict2 = 0.9921336746541979\n",
      "  word2vec_1_all_sent: dict1 = 0.918331604353268, dict2 = 0.7447477889315853\n",
      "  word2vec_2_all_sent: dict1 = 0.9401014944101838, dict2 = 0.7873893768318198\n",
      "--------------------------------\n"
     ]
    },
    {
     "name": "stderr",
     "output_type": "stream",
     "text": [
      "/home/administrator/projects/babylm_reformed/babylm-interaction/TnD_reformed/experiments/formal_experiment1/TAACO/TAACO_pure_txt.py:788: RuntimeWarning: invalid value encountered in divide\n",
      "  return(np.sum([v for v in A * np.log2(A/B) if not np.isnan(v)]))\n"
     ]
    },
    {
     "name": "stdout",
     "output_type": "stream",
     "text": [
      "lsa_1_all_sent: dict1 = 0.4283213437244273, dict2 = 0.4283213437244273\n",
      "lsa_1_all_para: dict1 = 0.4283213437244273, dict2 = 0.4283213437244273\n",
      "Mismatches found:\n",
      "  lsa_2_all_sent: dict1 = 0.6845164607069355, dict2 = 0.4509377839410332\n",
      "  lsa_2_all_para: dict1 = 0.6845164607069355, dict2 = 0.4509377839410332\n",
      "  lda_1_all_sent: dict1 = 0.9905867393588124, dict2 = 0.9816675016216079\n",
      "  lda_2_all_sent: dict1 = 0.99397175463805, dict2 = 0.986204404539513\n",
      "  lda_1_all_para: dict1 = 0.9905867393588124, dict2 = 0.9816675016216079\n",
      "  lda_2_all_para: dict1 = 0.99397175463805, dict2 = 0.986204404539513\n",
      "  word2vec_1_all_sent: dict1 = 0.855016614715709, dict2 = 0.4811925175865814\n",
      "  word2vec_2_all_sent: dict1 = 0.8726587489270123, dict2 = 0.5190830818581631\n",
      "  word2vec_1_all_para: dict1 = 0.855016614715709, dict2 = 0.4811925175865814\n",
      "  word2vec_2_all_para: dict1 = 0.8726587489270123, dict2 = 0.5190830818581631\n",
      "--------------------------------\n"
     ]
    },
    {
     "name": "stderr",
     "output_type": "stream",
     "text": [
      "/home/administrator/projects/babylm_reformed/babylm-interaction/TnD_reformed/experiments/formal_experiment1/TAACO/TAACO_pure_txt.py:788: RuntimeWarning: invalid value encountered in divide\n",
      "  return(np.sum([v for v in A * np.log2(A/B) if not np.isnan(v)]))\n"
     ]
    },
    {
     "name": "stdout",
     "output_type": "stream",
     "text": [
      "lsa_1_all_sent: dict1 = 0.6194499911214294, dict2 = 0.6194499911214294\n",
      "lsa_1_all_para: dict1 = 0.9150092528530218, dict2 = 0.9150092528530218\n",
      "Mismatches found:\n",
      "  lsa_2_all_sent: dict1 = 0.8492461738898233, dict2 = 0.6545573425603077\n",
      "  lsa_2_all_para: dict1 = 0.9491101559343424, dict2 = 0.9165481950846418\n",
      "  lda_1_all_sent: dict1 = 0.9903297312750436, dict2 = 0.9690152656589064\n",
      "  lda_2_all_sent: dict1 = 0.99621460239969, dict2 = 0.9732620363875301\n",
      "  lda_1_all_para: dict1 = 0.9990412963886216, dict2 = 0.9980503066290215\n",
      "  lda_2_all_para: dict1 = 0.9987747848777944, dict2 = 0.9980587567777622\n",
      "  word2vec_1_all_sent: dict1 = 0.916507012980274, dict2 = 0.6188460018897609\n",
      "  word2vec_2_all_sent: dict1 = 0.9401310870623096, dict2 = 0.6622050859015142\n",
      "  word2vec_1_all_para: dict1 = 0.9357054675316944, dict2 = 0.8526240765001416\n",
      "  word2vec_2_all_para: dict1 = 0.9332666078478432, dict2 = 0.8448184233107444\n",
      "--------------------------------\n"
     ]
    },
    {
     "name": "stderr",
     "output_type": "stream",
     "text": [
      "/home/administrator/projects/babylm_reformed/babylm-interaction/TnD_reformed/experiments/formal_experiment1/TAACO/TAACO_pure_txt.py:788: RuntimeWarning: invalid value encountered in divide\n",
      "  return(np.sum([v for v in A * np.log2(A/B) if not np.isnan(v)]))\n",
      "/home/administrator/projects/babylm_reformed/babylm-interaction/TnD_reformed/experiments/formal_experiment1/TAACO/TAACO_pure_txt.py:788: RuntimeWarning: divide by zero encountered in log2\n",
      "  return(np.sum([v for v in A * np.log2(A/B) if not np.isnan(v)]))\n",
      "/home/administrator/projects/babylm_reformed/babylm-interaction/TnD_reformed/experiments/formal_experiment1/TAACO/TAACO_pure_txt.py:788: RuntimeWarning: invalid value encountered in multiply\n",
      "  return(np.sum([v for v in A * np.log2(A/B) if not np.isnan(v)]))\n"
     ]
    },
    {
     "name": "stdout",
     "output_type": "stream",
     "text": [
      "lsa_1_all_sent: dict1 = 0.5030133607122181, dict2 = 0.5030133607122181\n",
      "lsa_1_all_para: dict1 = 0.7736192844161436, dict2 = 0.7736192844161436\n",
      "Mismatches found:\n",
      "  lsa_2_all_sent: dict1 = 0.8043589819778953, dict2 = 0.6045151416799414\n",
      "  lsa_2_all_para: dict1 = 0.9230370152649724, dict2 = 0.8389935640086025\n",
      "  lda_1_all_sent: dict1 = 0.9826500582952048, dict2 = 0.9433653688357955\n",
      "  lda_2_all_sent: dict1 = 0.9897568896291552, dict2 = 0.9626037145181142\n",
      "  lda_1_all_para: dict1 = 0.9992727614921038, dict2 = 0.9989492873729637\n",
      "  lda_2_all_para: dict1 = 0.9991062270502968, dict2 = 0.9986662078726382\n",
      "  word2vec_1_all_sent: dict1 = 0.8715396409237917, dict2 = 0.4627433237680777\n",
      "  word2vec_2_all_sent: dict1 = 0.9104930262736066, dict2 = 0.5833224847715293\n",
      "  word2vec_1_all_para: dict1 = 0.9455935591352947, dict2 = 0.8279309492306016\n",
      "  word2vec_2_all_para: dict1 = 0.947572443928341, dict2 = 0.8772072285088234\n",
      "--------------------------------\n",
      "lsa_1_all_sent: dict1 = 0.6786058604865789, dict2 = 0.6786058604865789\n",
      "lsa_1_all_para: dict1 = 0.8138930760301419, dict2 = 0.8138930760301419\n",
      "Mismatches found:\n",
      "  lsa_2_all_sent: dict1 = 0.8828082301936757, dict2 = 0.7186451123062577\n",
      "  lsa_2_all_para: dict1 = 0.9573586007328576, dict2 = 0.8732715259093636\n",
      "  lda_1_all_sent: dict1 = 0.997175128958258, dict2 = 0.9853155575890115\n",
      "  lda_2_all_sent: dict1 = 0.9976831191150668, dict2 = 0.9871409413678974\n",
      "  lda_1_all_para: dict1 = 0.999620439380996, dict2 = 0.9939472591048867\n",
      "  lda_2_all_para: dict1 = 0.9999878220575856, dict2 = 0.9967340175602112\n",
      "  word2vec_1_all_sent: dict1 = 0.9273355133866704, dict2 = 0.6841053822880616\n",
      "  word2vec_2_all_sent: dict1 = 0.9369408595194744, dict2 = 0.7178206100876432\n",
      "  word2vec_1_all_para: dict1 = 0.947256634206049, dict2 = 0.7356152081096282\n",
      "  word2vec_2_all_para: dict1 = 0.9505708688080792, dict2 = 0.8095666809627731\n",
      "--------------------------------\n"
     ]
    },
    {
     "name": "stderr",
     "output_type": "stream",
     "text": [
      "/home/administrator/projects/babylm_reformed/babylm-interaction/TnD_reformed/experiments/formal_experiment1/TAACO/TAACO_pure_txt.py:788: RuntimeWarning: invalid value encountered in divide\n",
      "  return(np.sum([v for v in A * np.log2(A/B) if not np.isnan(v)]))\n"
     ]
    }
   ],
   "source": [
    "for temp_file_name in sampled_files:\n",
    "    temp_file_path = os.path.join(sample_dir, temp_file_name)\n",
    "    with open(temp_file_path, \"r\", encoding=\"utf-8\") as f:\n",
    "        content = f.read()\n",
    "    \n",
    "    temp_result_dict = taaco_processor.process_text(content)\n",
    "    row_dict = ref_df[ref_df['Filename'] == temp_file_name].to_dict(orient='records')[0]\n",
    "    \n",
    "    print(f\"lsa_1_all_sent: dict1 = {row_dict['lsa_1_all_sent']}, dict2 = {temp_result_dict['lsa_1_all_sent']}\")\n",
    "    print(f\"lsa_1_all_para: dict1 = {row_dict['lsa_1_all_para']}, dict2 = {temp_result_dict['lsa_1_all_para']}\")\n",
    "    compare_dict_values(row_dict, temp_result_dict)\n",
    "    print('--------------------------------')"
   ]
  },
  {
   "cell_type": "markdown",
   "metadata": {},
   "source": [
    "### reproduce from original function"
   ]
  },
  {
   "cell_type": "markdown",
   "metadata": {},
   "source": [
    "0. lsa1_all_sent is average similarity of sent1 against sent2, lsa2_all_sent is sent1 against sent2 + sent3; if the bug happens, sent2 will be sent2 + sent3, sent3 will be sent3 + sent4, with that the following compare will be sent2 + sent3 vs sent3 + sent4, ofc similarity increasee\n",
    "1. increase amount from lsa_1_all_sent to lsa_2_all_sent is too large for sample dict from original code\n",
    "2. the following metrics converge to 1 in order to the sequence in implementation, suggesting after eacch call with seg = 2\n",
    "3. following code\n"
   ]
  },
  {
   "cell_type": "code",
   "execution_count": 9,
   "metadata": {},
   "outputs": [],
   "source": [
    "import platform\n",
    "import numpy as np\n",
    "# from collections import Counter\n",
    "from operator import itemgetter\n",
    "import glob\n",
    "import math\n",
    "from collections import Counter\n",
    "import math\n",
    "\n",
    "def safe_divide(numerator, denominator):\n",
    "    if denominator == 0:\n",
    "        index = 0\n",
    "    else: index = numerator/denominator\n",
    "    return(index)\n",
    "\n",
    "\n",
    "def lda_divergence(text_list_1,text_list_2,dict,nvectors = 300):\n",
    "\n",
    "    def vector_av(text_list):\n",
    "        n_items = 0\n",
    "        l = []\n",
    "        for i in range(nvectors):\n",
    "            l.append(0)\n",
    "\n",
    "        for items in text_list:\n",
    "            if items not in dict:\n",
    "                continue\n",
    "            else:\n",
    "                n_columns = 0\n",
    "                n_items+=1\n",
    "                for vector in dict[items]:\n",
    "                    l[n_columns] += float(vector)\n",
    "                    n_columns +=1\n",
    "        try:\n",
    "            for x in range(len(l)): #normalize for number of words\n",
    "                l[x] = safe_divide(l[x],n_items)\n",
    "            \n",
    "            div = np.linalg.norm(l, ord = 1) #linear algebra normalization - all items in list sum to 1\n",
    "            for x in range(len(l)):\n",
    "                l[x] = safe_divide(x,div)\n",
    "\n",
    "        except ZeroDivisionError:\n",
    "            l = \"null\"\n",
    "        \n",
    "        return(l)\n",
    "\n",
    "    def jsdiv(P, Q):\n",
    "        \"\"\"Compute the Jensen-Shannon divergence between two probability distributions.\n",
    "\n",
    "        Input\n",
    "        -----\n",
    "        P, Q : array-like\n",
    "            Probability distributions of equal length that sum to 1\n",
    "        \"\"\"\n",
    "\n",
    "        def _kldiv(A, B):\n",
    "            return(np.sum([v for v in A * np.log2(A/B) if not np.isnan(v)]))\n",
    "\n",
    "        P = np.array(P)\n",
    "        Q = np.array(Q)\n",
    "\n",
    "        M = 0.5 * (P + Q)\n",
    "\n",
    "        return(0.5 * (_kldiv(P, M) +_kldiv(Q, M)))\n",
    "\n",
    "\n",
    "    list1 = vector_av(text_list_1)\n",
    "    list2 = vector_av(text_list_2)\n",
    "    #print list1[:20]\n",
    "    if list1 == \"null\" or list2 == \"null\":\n",
    "        divergence = \"null\"\n",
    "    else:\n",
    "        divergence = 1 - jsdiv(list1,list2)\n",
    "        if divergence >= 0: #this silliness controls for some wacky output. This was in Mihai's code... not sure how the wackiness occurs (it is rare)\n",
    "            divergence = divergence\n",
    "        else:\n",
    "            divergence = \"null\"\n",
    "    return(divergence)\n",
    "\n",
    "def lsa_similarity(text_list_1,text_list_2,lsa_matrix_dict,index_list = None,index_name= None,header_list = None,lsa_type = \"fwd\",nvectors = 300):\n",
    "\n",
    "    def vector_av(text_list):\n",
    "        n_items = 0\n",
    "        l = []\n",
    "        for i in range(nvectors):\n",
    "            l.append(0)\n",
    "\n",
    "        for items in text_list:\n",
    "            if items not in lsa_matrix_dict:\n",
    "                continue\n",
    "            else:\n",
    "                n_columns = 0\n",
    "                n_items+=1\n",
    "                for vector in lsa_matrix_dict[items]:\n",
    "                    l[n_columns] += float(vector)\n",
    "                    n_columns +=1\n",
    "\n",
    "        #n_columns = 0\n",
    "        #for items in l:\n",
    "        #\tl[n_columns] = l[n_columns]/n_items\n",
    "\n",
    "        sum_count = 0\n",
    "        for items in l:\n",
    "            sum_count += math.pow(items,2)\n",
    "        sqrt_sum = math.sqrt(sum_count)\n",
    "    \n",
    "\n",
    "        return([l, sqrt_sum])\n",
    "\n",
    "    list1 = vector_av(text_list_1)\n",
    "    list2 = vector_av(text_list_2)\n",
    "\n",
    "    try:\n",
    "        sum_count_2 = 0\n",
    "        for items in range(len(list1[0])):\n",
    "            sum_count_2+= (list1[0][items]*list2[0][items])\n",
    "\n",
    "\n",
    "        cosine_sim = sum_count_2/(list1[1]*list2[1])\n",
    "\n",
    "    except ZeroDivisionError:\n",
    "        cosine_sim = \"null\"\n",
    "\n",
    "    if header_list is not None:\n",
    "        header_list.append(index_name)\n",
    "        index_list.append(cosine_sim)\n",
    "\n",
    "    if header_list is None:\n",
    "        #print cosine_sim\n",
    "        return(cosine_sim)\n",
    "\n",
    "def segment_compare(header_list,index_list,text_list_of_lists, seg, name_suffix, lsa_matrix_dict,type = \"lsa\"): \n",
    "\n",
    "    #print list\n",
    "    ## need to add check to ensure that list is a list of lists\n",
    "    \n",
    "    #first we have counters:\n",
    "    \n",
    "    n_segments = len(text_list_of_lists) #number of sentences or paragraphs\n",
    "    \n",
    "    #this next section deals with texts that only have one segment\n",
    "    if n_segments < (seg+1):\n",
    "        if seg == 1:\n",
    "            header_list.append(name_suffix)\n",
    "            index_list.append(0)\n",
    "                                        \n",
    "        if seg == 2:\n",
    "            header_list.append(name_suffix)\n",
    "            index_list.append(0)\n",
    "\n",
    "    #this is the \"normal\" procedure\n",
    "    else:\t\n",
    "                        \n",
    "        denominator = 0\n",
    "        counter = 0\n",
    "\n",
    "        for number in range(n_segments-seg):\n",
    "        \n",
    "            item_list = text_list_of_lists[number] #e.g., sentence 1\n",
    "            comparison_list = text_list_of_lists[number + 1]#e.g., sentence 2\n",
    "            if seg == 2:\n",
    "                for items in text_list_of_lists[number +2]:\n",
    "                    comparison_list.append(items)\n",
    "            \n",
    "            #print \"item list:\", item_list\n",
    "            #print \"comparison_list:\", comparison_list\n",
    "            \n",
    "            if type == \"lsa\":\n",
    "                index = lsa_similarity(item_list,comparison_list,lsa_matrix_dict)\n",
    "                if index == \"null\":\n",
    "                    continue\n",
    "                else:\n",
    "                    counter += index\t\t\n",
    "                    denominator +=1\n",
    "\n",
    "            if type == \"lda\":\n",
    "                index = lda_divergence(item_list,comparison_list,lsa_matrix_dict)\n",
    "                \n",
    "                if index == \"null\":\n",
    "                    continue\n",
    "                else:\n",
    "                    counter += index\t\t\n",
    "                    denominator +=1\n",
    "        \n",
    "        index_list.append(safe_divide(counter,denominator))\t\t\n",
    "        header_list.append(name_suffix)"
   ]
  },
  {
   "cell_type": "code",
   "execution_count": 13,
   "metadata": {},
   "outputs": [],
   "source": [
    "temp_header_list = []\n",
    "temp_index_list = [] \n",
    "sent_lemma_list = [['a', 'program', 'that', 'benefit', 'both', 'old', 'and', 'younger', 'students'], ['\"have', 'you', 'ever', 'experience', 'a', 'program', 'that', 'involve', 'both', 'old', 'and', 'young', 'student', 'or', 'would', 'the', 'student', 'be', 'able', 'to', 'admire', 'each', 'other', '\"'], ['old', 'student', 'have', 'more', 'experience', 'than', 'the', 'young', 'student', 'which', 'make', 'it', 'easy', 'for', 'they', 'to', 'handle', 'problem'], ['it', 'also', 'help', 'they', 'to', 'build', 'a', 'strong', 'relationship', 'since', 'they', 'both', 'come', 'from', 'different', 'background'], ['it', 'will', 'be', 'easy', 'for', 'they', 'to', 'bring', 'up', 'idea', 'for', 'a', 'particular', 'project', 'because', 'they', 'both', 'have', 'different', 'experience'], ['the', 'program', 'will', 'help', 'both', 'group', 'of', 'student', 'because', 'they', 'can', 'have', 'thing', 'like', 'competition', 'and', 'also', 'they', 'can', 'both', 'learn', 'from', 'each', 'other', 'and', 'also', 'achieve', 'the', 'goal', 'they', 'have', 'plan', 'for', 'that', 'class', 'in', 'particularly', 'if', 'they', 'work', 'as', 'a', 'team'], ['firstly', 'such', 'a', 'program', 'will', 'benefit', 'both', 'old', 'and', 'young', 'student', 'because', 'they', 'can', 'have', 'thing', 'such', 'as', 'competition'], ['both', 'student', 'will', 'try', 'their', 'good', 'and', 'put', 'in', 'much', 'effort', 'because', 'either', 'they', 'want', 'to', 'be', 'ahead', 'of', 'each', 'other', 'or', 'they', 'want', 'to', 'succeed', 'in', 'that', 'program'], ['they', 'make', 'sure', 'that', 'they', 'value', 'their', 'time', 'and', 'make', 'their', 'book', 'their', '\"', 'good', 'friend', '\"'], ['there', 'be', 'a', 'quote', 'that', 'state', 'that', '\"', 'education', 'be', 'the', 'key', 'to', 'success', '\"'], ['when', 'student', 'try', 'to', 'compete', 'with', 'other', 'they', 'learn', 'hard', 'to', 'attain', 'their', 'dream', 'and', 'also', 'to', 'make', 'people', 'believe', 'in', 'they'], ['such', 'competition', 'make', 'student', 'learn', 'hard', 'and', 'also', 'make', 'they', 'successful'], ['secondly', 'such', 'a', 'program', 'will', 'benefit', 'both', 'student', 'because', '\"', 'they', 'can', 'both', 'learn', 'from', 'each', 'other', '\"'], ['for', 'instance', 'if', 'i', 'have', 'be', 'pair', 'with', 'someone', 'who', 'be', 'three', 'year', 'old', 'than', 'i', 'to', 'do', 'an', 'assignment', 'it', 'make', 'it', 'easy', 'for', 'we', 'to', 'complete', 'the', 'assignment'], ['it', 'be', 'because', 'we', 'be', 'both', 'from', 'different', 'background', 'and', 'also', 'raise', 'up', 'and', 'train', 'by', 'different', 'people'], ['that', 'alone', 'will', 'help', 'we', 'learn', 'from', 'each', 'other', 'because', 'we', 'will', 'not', 'like', 'to', 'work', 'with', 'each', 'other', 'without', 'get', 'to', 'know', 'ourselves'], ['when', 'we', 'realize', 'we', 'be', 'from', 'different', 'place', 'we', 'will', 'be', 'interested', 'in', 'know', 'a', 'little', 'bit', 'about', 'each', 'other', \"'s\", 'background', 'and', 'how', 'we', 'do', 'our', 'thing'], ['learn', 'from', 'each', 'other', 'benefit', 'both', 'of', 'we', 'especially', 'when', 'we', 'know', 'about', 'our', 'like', 'and', 'dislike'], ['lastly', 'both', 'student', 'benefit', 'from', 'such', 'a', 'program', 'because', 'they', 'can', 'achieve', 'the', 'goal', 'they', 'have', 'plan', 'for', 'that', 'class', 'particularly', 'if', 'they', 'work', 'as', 'a', 'team'], ['there', 'be', 'a', 'quote', 'i', 'remember', 'that', 'say', 'that', '\"', 'two', 'head', 'be', 'well', 'than', 'one', '\"'], ['for', 'example', 'if', 'one', 'person', 'will', 'be', 'able', 'to', 'carry', 'twenty', 'out', 'of', 'fifty', 'book', 'then', 'two', 'people', 'will', 'be', 'able', 'to', 'carry', 'all', 'the', 'fifty', 'book', 'or', 'even', 'more'], ['the', 'student', 'have', 'goal', 'and', 'dream', 'they', 'want', 'to', 'acquire', 'in', 'life'], ['however', 'since', 'they', 'both', 'have', 'the', 'same', 'purpose', 'they', 'will', 'decide', 'to', 'work', 'together', 'to', 'help', 'each', 'other', 'reach', 'their', 'goal'], ['conclusively', 'both', 'student', 'will', 'benefit', 'from', 'such', 'a', 'program', 'because'], ['they', 'can', 'compete', 'against', 'each', 'other', 'and', 'put', 'in', 'much', 'effort', 'to', 'reach', 'their', 'dream', 'to', 'also', 'learn', 'about', 'each', 'other', 'and', 'to', 'help', 'each', 'other', 'strive', 'for', 'their', 'goal'], ['the', 'effect', 'of', 'a', 'program', 'that', 'help', 'both', 'old', 'and', 'young', 'student', 'to', 'pair', 'up', 'and', 'help', 'each', 'other', 'have', 'be', 'list', 'in', 'the', 'essay', 'above'], ['student', 'can', 'be', 'assist', 'by', 'people', 'who', 'be', 'old', 'young', 'or', 'even', 'of', 'a', 'different', 'race', 'or', 'gender']]\n",
    "original_sent_lemma_list = [['a', 'program', 'that', 'benefit', 'both', 'old', 'and', 'younger', 'students'], ['\"have', 'you', 'ever', 'experience', 'a', 'program', 'that', 'involve', 'both', 'old', 'and', 'young', 'student', 'or', 'would', 'the', 'student', 'be', 'able', 'to', 'admire', 'each', 'other', '\"'], ['old', 'student', 'have', 'more', 'experience', 'than', 'the', 'young', 'student', 'which', 'make', 'it', 'easy', 'for', 'they', 'to', 'handle', 'problem'], ['it', 'also', 'help', 'they', 'to', 'build', 'a', 'strong', 'relationship', 'since', 'they', 'both', 'come', 'from', 'different', 'background'], ['it', 'will', 'be', 'easy', 'for', 'they', 'to', 'bring', 'up', 'idea', 'for', 'a', 'particular', 'project', 'because', 'they', 'both', 'have', 'different', 'experience'], ['the', 'program', 'will', 'help', 'both', 'group', 'of', 'student', 'because', 'they', 'can', 'have', 'thing', 'like', 'competition', 'and', 'also', 'they', 'can', 'both', 'learn', 'from', 'each', 'other', 'and', 'also', 'achieve', 'the', 'goal', 'they', 'have', 'plan', 'for', 'that', 'class', 'in', 'particularly', 'if', 'they', 'work', 'as', 'a', 'team'], ['firstly', 'such', 'a', 'program', 'will', 'benefit', 'both', 'old', 'and', 'young', 'student', 'because', 'they', 'can', 'have', 'thing', 'such', 'as', 'competition'], ['both', 'student', 'will', 'try', 'their', 'good', 'and', 'put', 'in', 'much', 'effort', 'because', 'either', 'they', 'want', 'to', 'be', 'ahead', 'of', 'each', 'other', 'or', 'they', 'want', 'to', 'succeed', 'in', 'that', 'program'], ['they', 'make', 'sure', 'that', 'they', 'value', 'their', 'time', 'and', 'make', 'their', 'book', 'their', '\"', 'good', 'friend', '\"'], ['there', 'be', 'a', 'quote', 'that', 'state', 'that', '\"', 'education', 'be', 'the', 'key', 'to', 'success', '\"'], ['when', 'student', 'try', 'to', 'compete', 'with', 'other', 'they', 'learn', 'hard', 'to', 'attain', 'their', 'dream', 'and', 'also', 'to', 'make', 'people', 'believe', 'in', 'they'], ['such', 'competition', 'make', 'student', 'learn', 'hard', 'and', 'also', 'make', 'they', 'successful'], ['secondly', 'such', 'a', 'program', 'will', 'benefit', 'both', 'student', 'because', '\"', 'they', 'can', 'both', 'learn', 'from', 'each', 'other', '\"'], ['for', 'instance', 'if', 'i', 'have', 'be', 'pair', 'with', 'someone', 'who', 'be', 'three', 'year', 'old', 'than', 'i', 'to', 'do', 'an', 'assignment', 'it', 'make', 'it', 'easy', 'for', 'we', 'to', 'complete', 'the', 'assignment'], ['it', 'be', 'because', 'we', 'be', 'both', 'from', 'different', 'background', 'and', 'also', 'raise', 'up', 'and', 'train', 'by', 'different', 'people'], ['that', 'alone', 'will', 'help', 'we', 'learn', 'from', 'each', 'other', 'because', 'we', 'will', 'not', 'like', 'to', 'work', 'with', 'each', 'other', 'without', 'get', 'to', 'know', 'ourselves'], ['when', 'we', 'realize', 'we', 'be', 'from', 'different', 'place', 'we', 'will', 'be', 'interested', 'in', 'know', 'a', 'little', 'bit', 'about', 'each', 'other', \"'s\", 'background', 'and', 'how', 'we', 'do', 'our', 'thing'], ['learn', 'from', 'each', 'other', 'benefit', 'both', 'of', 'we', 'especially', 'when', 'we', 'know', 'about', 'our', 'like', 'and', 'dislike'], ['lastly', 'both', 'student', 'benefit', 'from', 'such', 'a', 'program', 'because', 'they', 'can', 'achieve', 'the', 'goal', 'they', 'have', 'plan', 'for', 'that', 'class', 'particularly', 'if', 'they', 'work', 'as', 'a', 'team'], ['there', 'be', 'a', 'quote', 'i', 'remember', 'that', 'say', 'that', '\"', 'two', 'head', 'be', 'well', 'than', 'one', '\"'], ['for', 'example', 'if', 'one', 'person', 'will', 'be', 'able', 'to', 'carry', 'twenty', 'out', 'of', 'fifty', 'book', 'then', 'two', 'people', 'will', 'be', 'able', 'to', 'carry', 'all', 'the', 'fifty', 'book', 'or', 'even', 'more'], ['the', 'student', 'have', 'goal', 'and', 'dream', 'they', 'want', 'to', 'acquire', 'in', 'life'], ['however', 'since', 'they', 'both', 'have', 'the', 'same', 'purpose', 'they', 'will', 'decide', 'to', 'work', 'together', 'to', 'help', 'each', 'other', 'reach', 'their', 'goal'], ['conclusively', 'both', 'student', 'will', 'benefit', 'from', 'such', 'a', 'program', 'because'], ['they', 'can', 'compete', 'against', 'each', 'other', 'and', 'put', 'in', 'much', 'effort', 'to', 'reach', 'their', 'dream', 'to', 'also', 'learn', 'about', 'each', 'other', 'and', 'to', 'help', 'each', 'other', 'strive', 'for', 'their', 'goal'], ['the', 'effect', 'of', 'a', 'program', 'that', 'help', 'both', 'old', 'and', 'young', 'student', 'to', 'pair', 'up', 'and', 'help', 'each', 'other', 'have', 'be', 'list', 'in', 'the', 'essay', 'above'], ['student', 'can', 'be', 'assist', 'by', 'people', 'who', 'be', 'old', 'young', 'or', 'even', 'of', 'a', 'different', 'race', 'or', 'gender']]\n",
    "\n",
    "segment_compare(temp_header_list,temp_index_list,sent_lemma_list, 2, \"lsa_2_all_sent\", taaco_processor.lsa_dict)"
   ]
  },
  {
   "cell_type": "code",
   "execution_count": 14,
   "metadata": {},
   "outputs": [
    {
     "data": {
      "text/plain": [
       "False"
      ]
     },
     "execution_count": 14,
     "metadata": {},
     "output_type": "execute_result"
    }
   ],
   "source": [
    "original_sent_lemma_list == sent_lemma_list"
   ]
  },
  {
   "cell_type": "code",
   "execution_count": 15,
   "metadata": {},
   "outputs": [
    {
     "data": {
      "text/plain": [
       "True"
      ]
     },
     "execution_count": 15,
     "metadata": {},
     "output_type": "execute_result"
    }
   ],
   "source": [
    "original_sent_lemma_list[0] == sent_lemma_list[0]"
   ]
  },
  {
   "cell_type": "code",
   "execution_count": 16,
   "metadata": {},
   "outputs": [
    {
     "data": {
      "text/plain": [
       "False"
      ]
     },
     "execution_count": 16,
     "metadata": {},
     "output_type": "execute_result"
    }
   ],
   "source": [
    "original_sent_lemma_list[1] == sent_lemma_list[1]"
   ]
  },
  {
   "cell_type": "code",
   "execution_count": 18,
   "metadata": {},
   "outputs": [
    {
     "data": {
      "text/plain": [
       "True"
      ]
     },
     "execution_count": 18,
     "metadata": {},
     "output_type": "execute_result"
    }
   ],
   "source": [
    "original_sent_lemma_list[3] + original_sent_lemma_list[4] == sent_lemma_list[3]"
   ]
  }
 ],
 "metadata": {
  "kernelspec": {
   "display_name": "babylm_old_trl",
   "language": "python",
   "name": "python3"
  },
  "language_info": {
   "codemirror_mode": {
    "name": "ipython",
    "version": 3
   },
   "file_extension": ".py",
   "mimetype": "text/x-python",
   "name": "python",
   "nbconvert_exporter": "python",
   "pygments_lexer": "ipython3",
   "version": "3.11.11"
  }
 },
 "nbformat": 4,
 "nbformat_minor": 2
}
